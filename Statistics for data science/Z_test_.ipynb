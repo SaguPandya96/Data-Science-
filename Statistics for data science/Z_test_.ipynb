{
  "nbformat": 4,
  "nbformat_minor": 0,
  "metadata": {
    "colab": {
      "provenance": []
    },
    "kernelspec": {
      "name": "python3",
      "display_name": "Python 3"
    },
    "language_info": {
      "name": "python"
    }
  },
  "cells": [
    {
      "cell_type": "markdown",
      "source": [
        "Suppose the IQ in a certain population is normally distributed with a mean of μ =100 and standard deviation of σ =15 . A researcher wants to know if a new drug affects IQ levels, so he recruits 20 patients to try it and records their IQ Levels. The following code shows how to perform a one sample Z-test in python to determine if the new drug causes a significant difference in IQ Levels:"
      ],
      "metadata": {
        "id": "hezrVk08x_hg"
      }
    },
    {
      "cell_type": "code",
      "source": [
        "from statsmodels.stats.weightstats import ztest as ztest\n",
        "\n",
        "#enter IQ Levels for 20 Patients \n",
        "data = [88,92,94,94,96,97,98,99,105,110,109,114,115,121]\n",
        "\n",
        "ztest(data,value=100)"
      ],
      "metadata": {
        "colab": {
          "base_uri": "https://localhost:8080/"
        },
        "id": "qAkruCT7zEQu",
        "outputId": "5ab4dec5-4a49-40c3-92c2-3b7304bfca61"
      },
      "execution_count": 2,
      "outputs": [
        {
          "output_type": "execute_result",
          "data": {
            "text/plain": [
              "(0.8536427437010425, 0.39330296752622673)"
            ]
          },
          "metadata": {},
          "execution_count": 2
        }
      ]
    },
    {
      "cell_type": "code",
      "source": [],
      "metadata": {
        "id": "R07sTpeLzmBe"
      },
      "execution_count": null,
      "outputs": []
    }
  ]
}