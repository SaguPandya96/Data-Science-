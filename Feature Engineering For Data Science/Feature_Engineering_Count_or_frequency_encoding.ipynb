{
  "nbformat": 4,
  "nbformat_minor": 0,
  "metadata": {
    "colab": {
      "name": "Feature Engineering- Count or frequency encoding.ipynb",
      "provenance": [],
      "authorship_tag": "ABX9TyMHTZs8DpPtKyxPFJFXL3ev",
      "include_colab_link": true
    },
    "kernelspec": {
      "name": "python3",
      "display_name": "Python 3"
    }
  },
  "cells": [
    {
      "cell_type": "markdown",
      "metadata": {
        "id": "view-in-github",
        "colab_type": "text"
      },
      "source": [
        "<a href=\"https://colab.research.google.com/github/SaguPandya96/Data-Science-/blob/master/Feature_Engineering_Count_or_frequency_encoding.ipynb\" target=\"_parent\"><img src=\"https://colab.research.google.com/assets/colab-badge.svg\" alt=\"Open In Colab\"/></a>"
      ]
    },
    {
      "cell_type": "markdown",
      "metadata": {
        "id": "RVZog769GMBS"
      },
      "source": [
        "Count or frequency encoding\r\n",
        "\r\n",
        "\r\n",
        "High Cardinality\r\n",
        "\r\n",
        "\r\n",
        "Another way to refer to variables that have a multitude of categories, is to call them variables with high cardinality.\r\n",
        "\r\n",
        "If we have categorical variables containing many multiple labels or high cardinality,then by using one hot encoding, we will expand the feature space dramatically.\r\n",
        "\r\n",
        "One approach that is heavily used in Kaggle competitions, is to replace each label of the categorical variable by the count, this is the amount of times each label appears in the dataset. Or the frequency, this is the percentage of observations within that category. The 2 are equivalent.\r\n",
        "\r\n",
        "Let's see how this works:"
      ]
    },
    {
      "cell_type": "code",
      "metadata": {
        "colab": {
          "base_uri": "https://localhost:8080/",
          "height": 203
        },
        "id": "1t_6ohYoGPqT",
        "outputId": "09746aa9-5f2e-46c1-baf5-0909f4de2b12"
      },
      "source": [
        "import pandas as pd\r\n",
        "import numpy as np\r\n",
        "\r\n",
        "# let's open the mercedes benz dataset for demonstration\r\n",
        "# Download the dataset from the below link\r\n",
        "#https://www.kaggle.com/aditya1702/mercedes-benz-data-exploration/data\r\n",
        "\r\n",
        "df = pd.read_csv('/content/test.csv', usecols=['X1', 'X2'])\r\n",
        "df.head()"
      ],
      "execution_count": 1,
      "outputs": [
        {
          "output_type": "execute_result",
          "data": {
            "text/html": [
              "<div>\n",
              "<style scoped>\n",
              "    .dataframe tbody tr th:only-of-type {\n",
              "        vertical-align: middle;\n",
              "    }\n",
              "\n",
              "    .dataframe tbody tr th {\n",
              "        vertical-align: top;\n",
              "    }\n",
              "\n",
              "    .dataframe thead th {\n",
              "        text-align: right;\n",
              "    }\n",
              "</style>\n",
              "<table border=\"1\" class=\"dataframe\">\n",
              "  <thead>\n",
              "    <tr style=\"text-align: right;\">\n",
              "      <th></th>\n",
              "      <th>X1</th>\n",
              "      <th>X2</th>\n",
              "    </tr>\n",
              "  </thead>\n",
              "  <tbody>\n",
              "    <tr>\n",
              "      <th>0</th>\n",
              "      <td>v</td>\n",
              "      <td>n</td>\n",
              "    </tr>\n",
              "    <tr>\n",
              "      <th>1</th>\n",
              "      <td>b</td>\n",
              "      <td>ai</td>\n",
              "    </tr>\n",
              "    <tr>\n",
              "      <th>2</th>\n",
              "      <td>v</td>\n",
              "      <td>as</td>\n",
              "    </tr>\n",
              "    <tr>\n",
              "      <th>3</th>\n",
              "      <td>l</td>\n",
              "      <td>n</td>\n",
              "    </tr>\n",
              "    <tr>\n",
              "      <th>4</th>\n",
              "      <td>s</td>\n",
              "      <td>as</td>\n",
              "    </tr>\n",
              "  </tbody>\n",
              "</table>\n",
              "</div>"
            ],
            "text/plain": [
              "  X1  X2\n",
              "0  v   n\n",
              "1  b  ai\n",
              "2  v  as\n",
              "3  l   n\n",
              "4  s  as"
            ]
          },
          "metadata": {
            "tags": []
          },
          "execution_count": 1
        }
      ]
    },
    {
      "cell_type": "code",
      "metadata": {
        "colab": {
          "base_uri": "https://localhost:8080/"
        },
        "id": "hhdzojk2HGCd",
        "outputId": "4ac6ce83-3fbf-4804-f776-cc0d3ad30074"
      },
      "source": [
        "df.shape"
      ],
      "execution_count": 2,
      "outputs": [
        {
          "output_type": "execute_result",
          "data": {
            "text/plain": [
              "(4209, 2)"
            ]
          },
          "metadata": {
            "tags": []
          },
          "execution_count": 2
        }
      ]
    },
    {
      "cell_type": "markdown",
      "metadata": {
        "id": "JSqAf5w3H33M"
      },
      "source": [
        "One hot Encoding "
      ]
    },
    {
      "cell_type": "code",
      "metadata": {
        "colab": {
          "base_uri": "https://localhost:8080/"
        },
        "id": "ijYyKP1aHzYU",
        "outputId": "07213ad9-9e58-4099-fdcb-883697a38fed"
      },
      "source": [
        "pd.get_dummies(df).shape\r\n"
      ],
      "execution_count": 3,
      "outputs": [
        {
          "output_type": "execute_result",
          "data": {
            "text/plain": [
              "(4209, 72)"
            ]
          },
          "metadata": {
            "tags": []
          },
          "execution_count": 3
        }
      ]
    },
    {
      "cell_type": "code",
      "metadata": {
        "colab": {
          "base_uri": "https://localhost:8080/"
        },
        "id": "dQaB73vKH9oE",
        "outputId": "21f3431f-759e-45e6-9b75-98e6fee04885"
      },
      "source": [
        "len(df['X1'].unique())\r\n"
      ],
      "execution_count": 4,
      "outputs": [
        {
          "output_type": "execute_result",
          "data": {
            "text/plain": [
              "27"
            ]
          },
          "metadata": {
            "tags": []
          },
          "execution_count": 4
        }
      ]
    },
    {
      "cell_type": "code",
      "metadata": {
        "colab": {
          "base_uri": "https://localhost:8080/"
        },
        "id": "5-fR75__ID1h",
        "outputId": "6904e4f2-4e1a-4aac-e143-bc6ebf50d7ef"
      },
      "source": [
        "len(df['X2'].unique())\r\n"
      ],
      "execution_count": 5,
      "outputs": [
        {
          "output_type": "execute_result",
          "data": {
            "text/plain": [
              "45"
            ]
          },
          "metadata": {
            "tags": []
          },
          "execution_count": 5
        }
      ]
    },
    {
      "cell_type": "code",
      "metadata": {
        "colab": {
          "base_uri": "https://localhost:8080/"
        },
        "id": "73-nC1xIIFd-",
        "outputId": "8d673177-b6aa-467f-bfa7-69aed0ab9968"
      },
      "source": [
        "# let's have a look at how many labels\r\n",
        "\r\n",
        "for col in df.columns[0:]:\r\n",
        "    print(col, ': ', len(df[col].unique()), ' labels')"
      ],
      "execution_count": 6,
      "outputs": [
        {
          "output_type": "stream",
          "text": [
            "X1 :  27  labels\n",
            "X2 :  45  labels\n"
          ],
          "name": "stdout"
        }
      ]
    },
    {
      "cell_type": "code",
      "metadata": {
        "colab": {
          "base_uri": "https://localhost:8080/"
        },
        "id": "aqVNnGQdIbrW",
        "outputId": "f277e0b2-d581-4929-9c52-1f081ddc4b29"
      },
      "source": [
        "# let's obtain the counts for each one of the labels in variable X2\r\n",
        "# let's capture this in a dictionary that we can use to re-map the labels\r\n",
        "\r\n",
        "df.X2.value_counts().to_dict()"
      ],
      "execution_count": 7,
      "outputs": [
        {
          "output_type": "execute_result",
          "data": {
            "text/plain": [
              "{'a': 44,\n",
              " 'ab': 4,\n",
              " 'ac': 20,\n",
              " 'ad': 4,\n",
              " 'ae': 478,\n",
              " 'af': 4,\n",
              " 'ag': 23,\n",
              " 'ah': 3,\n",
              " 'ai': 462,\n",
              " 'aj': 1,\n",
              " 'ak': 260,\n",
              " 'al': 4,\n",
              " 'am': 3,\n",
              " 'an': 1,\n",
              " 'ao': 19,\n",
              " 'ap': 11,\n",
              " 'aq': 72,\n",
              " 'as': 1658,\n",
              " 'at': 3,\n",
              " 'au': 5,\n",
              " 'av': 1,\n",
              " 'aw': 9,\n",
              " 'ax': 1,\n",
              " 'ay': 78,\n",
              " 'b': 38,\n",
              " 'd': 6,\n",
              " 'e': 84,\n",
              " 'f': 85,\n",
              " 'g': 5,\n",
              " 'h': 6,\n",
              " 'i': 15,\n",
              " 'j': 2,\n",
              " 'k': 25,\n",
              " 'm': 348,\n",
              " 'n': 113,\n",
              " 'p': 10,\n",
              " 'q': 5,\n",
              " 'r': 155,\n",
              " 's': 100,\n",
              " 't': 25,\n",
              " 'u': 1,\n",
              " 'w': 3,\n",
              " 'x': 2,\n",
              " 'y': 1,\n",
              " 'z': 12}"
            ]
          },
          "metadata": {
            "tags": []
          },
          "execution_count": 7
        }
      ]
    },
    {
      "cell_type": "code",
      "metadata": {
        "id": "KKsGy1O7IfvY"
      },
      "source": [
        "\r\n",
        "# And now let's replace each label in X2 by its count\r\n",
        "\r\n",
        "# first we make a dictionary that maps each label to the counts\r\n",
        "df_frequency_map = df.X2.value_counts().to_dict()"
      ],
      "execution_count": 8,
      "outputs": []
    },
    {
      "cell_type": "code",
      "metadata": {
        "colab": {
          "base_uri": "https://localhost:8080/",
          "height": 417
        },
        "id": "hfmCCInqIkcj",
        "outputId": "289e98e4-4c4f-4576-da41-0854a45787d2"
      },
      "source": [
        "df.head(100)\r\n"
      ],
      "execution_count": 9,
      "outputs": [
        {
          "output_type": "execute_result",
          "data": {
            "text/html": [
              "<div>\n",
              "<style scoped>\n",
              "    .dataframe tbody tr th:only-of-type {\n",
              "        vertical-align: middle;\n",
              "    }\n",
              "\n",
              "    .dataframe tbody tr th {\n",
              "        vertical-align: top;\n",
              "    }\n",
              "\n",
              "    .dataframe thead th {\n",
              "        text-align: right;\n",
              "    }\n",
              "</style>\n",
              "<table border=\"1\" class=\"dataframe\">\n",
              "  <thead>\n",
              "    <tr style=\"text-align: right;\">\n",
              "      <th></th>\n",
              "      <th>X1</th>\n",
              "      <th>X2</th>\n",
              "    </tr>\n",
              "  </thead>\n",
              "  <tbody>\n",
              "    <tr>\n",
              "      <th>0</th>\n",
              "      <td>v</td>\n",
              "      <td>n</td>\n",
              "    </tr>\n",
              "    <tr>\n",
              "      <th>1</th>\n",
              "      <td>b</td>\n",
              "      <td>ai</td>\n",
              "    </tr>\n",
              "    <tr>\n",
              "      <th>2</th>\n",
              "      <td>v</td>\n",
              "      <td>as</td>\n",
              "    </tr>\n",
              "    <tr>\n",
              "      <th>3</th>\n",
              "      <td>l</td>\n",
              "      <td>n</td>\n",
              "    </tr>\n",
              "    <tr>\n",
              "      <th>4</th>\n",
              "      <td>s</td>\n",
              "      <td>as</td>\n",
              "    </tr>\n",
              "    <tr>\n",
              "      <th>...</th>\n",
              "      <td>...</td>\n",
              "      <td>...</td>\n",
              "    </tr>\n",
              "    <tr>\n",
              "      <th>95</th>\n",
              "      <td>b</td>\n",
              "      <td>m</td>\n",
              "    </tr>\n",
              "    <tr>\n",
              "      <th>96</th>\n",
              "      <td>b</td>\n",
              "      <td>m</td>\n",
              "    </tr>\n",
              "    <tr>\n",
              "      <th>97</th>\n",
              "      <td>aa</td>\n",
              "      <td>as</td>\n",
              "    </tr>\n",
              "    <tr>\n",
              "      <th>98</th>\n",
              "      <td>s</td>\n",
              "      <td>m</td>\n",
              "    </tr>\n",
              "    <tr>\n",
              "      <th>99</th>\n",
              "      <td>s</td>\n",
              "      <td>m</td>\n",
              "    </tr>\n",
              "  </tbody>\n",
              "</table>\n",
              "<p>100 rows × 2 columns</p>\n",
              "</div>"
            ],
            "text/plain": [
              "    X1  X2\n",
              "0    v   n\n",
              "1    b  ai\n",
              "2    v  as\n",
              "3    l   n\n",
              "4    s  as\n",
              "..  ..  ..\n",
              "95   b   m\n",
              "96   b   m\n",
              "97  aa  as\n",
              "98   s   m\n",
              "99   s   m\n",
              "\n",
              "[100 rows x 2 columns]"
            ]
          },
          "metadata": {
            "tags": []
          },
          "execution_count": 9
        }
      ]
    },
    {
      "cell_type": "code",
      "metadata": {
        "colab": {
          "base_uri": "https://localhost:8080/",
          "height": 203
        },
        "id": "BA6n447YIq-K",
        "outputId": "8bfe37d1-615a-45fe-c7f4-dad58729d2a3"
      },
      "source": [
        "# and now we replace X2 labels in the dataset df\r\n",
        "df.X2 = df.X2.map(df_frequency_map)\r\n",
        "\r\n",
        "df.head()"
      ],
      "execution_count": 10,
      "outputs": [
        {
          "output_type": "execute_result",
          "data": {
            "text/html": [
              "<div>\n",
              "<style scoped>\n",
              "    .dataframe tbody tr th:only-of-type {\n",
              "        vertical-align: middle;\n",
              "    }\n",
              "\n",
              "    .dataframe tbody tr th {\n",
              "        vertical-align: top;\n",
              "    }\n",
              "\n",
              "    .dataframe thead th {\n",
              "        text-align: right;\n",
              "    }\n",
              "</style>\n",
              "<table border=\"1\" class=\"dataframe\">\n",
              "  <thead>\n",
              "    <tr style=\"text-align: right;\">\n",
              "      <th></th>\n",
              "      <th>X1</th>\n",
              "      <th>X2</th>\n",
              "    </tr>\n",
              "  </thead>\n",
              "  <tbody>\n",
              "    <tr>\n",
              "      <th>0</th>\n",
              "      <td>v</td>\n",
              "      <td>113</td>\n",
              "    </tr>\n",
              "    <tr>\n",
              "      <th>1</th>\n",
              "      <td>b</td>\n",
              "      <td>462</td>\n",
              "    </tr>\n",
              "    <tr>\n",
              "      <th>2</th>\n",
              "      <td>v</td>\n",
              "      <td>1658</td>\n",
              "    </tr>\n",
              "    <tr>\n",
              "      <th>3</th>\n",
              "      <td>l</td>\n",
              "      <td>113</td>\n",
              "    </tr>\n",
              "    <tr>\n",
              "      <th>4</th>\n",
              "      <td>s</td>\n",
              "      <td>1658</td>\n",
              "    </tr>\n",
              "  </tbody>\n",
              "</table>\n",
              "</div>"
            ],
            "text/plain": [
              "  X1    X2\n",
              "0  v   113\n",
              "1  b   462\n",
              "2  v  1658\n",
              "3  l   113\n",
              "4  s  1658"
            ]
          },
          "metadata": {
            "tags": []
          },
          "execution_count": 10
        }
      ]
    },
    {
      "cell_type": "markdown",
      "metadata": {
        "id": "jOGxT6aaI57Y"
      },
      "source": [
        "There are some advantages and disadvantages that we will discuss now\r\n",
        "\r\n",
        "Advantages\r\n",
        "It is very simple to implement\r\n",
        "Does not increase the feature dimensional space\r\n",
        "Disadvantages\r\n",
        "If some of the labels have the same count, then they will be replaced with the same count and they will loose some valuable information.\r\n",
        "2 Adds somewhat arbitrary numbers, and therefore weights to the different labels, that may not be related to their predictive power"
      ]
    }
  ]
}