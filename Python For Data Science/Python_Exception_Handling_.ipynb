{
  "nbformat": 4,
  "nbformat_minor": 0,
  "metadata": {
    "colab": {
      "name": "Python Exception Handling .ipynb",
      "provenance": []
    },
    "kernelspec": {
      "name": "python3",
      "display_name": "Python 3"
    },
    "language_info": {
      "name": "python"
    }
  },
  "cells": [
    {
      "cell_type": "markdown",
      "source": [
        "##Python Exception Handling "
      ],
      "metadata": {
        "id": "34XBJ7HX6xij"
      }
    },
    {
      "cell_type": "code",
      "source": [
        "try: \n",
        "  ##code block where exception can occur \n",
        "  a=b\n",
        "except NameError as ex1:\n",
        "  print(\"The user have not defined the variable\")\n",
        "except Exception as ex:\n",
        "  print(\"ex\")\n"
      ],
      "metadata": {
        "colab": {
          "base_uri": "https://localhost:8080/"
        },
        "id": "btZdjcC66zuU",
        "outputId": "64942548-5307-42b1-8576-fa0eb0a1137d"
      },
      "execution_count": 7,
      "outputs": [
        {
          "output_type": "stream",
          "name": "stdout",
          "text": [
            "The user have not defined the variable\n"
          ]
        }
      ]
    },
    {
      "cell_type": "code",
      "source": [
        "### try else\n",
        "try:\n",
        "    ##code block where exception can occur\n",
        "    a=int(input(\"Enter the number 1 \"))\n",
        "    b=int(input(\"Enter the number 2 \"))\n",
        "    c=a/b \n",
        "    d=a*b\n",
        "    e=a+b\n",
        "    \n",
        "except NameError:\n",
        "    print(\"The user have not defined the variable\")\n",
        "except ZeroDivisionError:\n",
        "    print(\"Please provide number greater than 0\")\n",
        "except TypeError:\n",
        "    print(\"Try to make the datatype similar\")\n",
        "except Exception as ex:\n",
        "    print(ex)\n",
        "else:\n",
        "    print(c)\n",
        "    print(d)\n",
        "    print(e)\n",
        "\n"
      ],
      "metadata": {
        "colab": {
          "base_uri": "https://localhost:8080/"
        },
        "id": "_A6K5m7Q7n2u",
        "outputId": "03228283-219a-414d-d3d6-d5031aa7b337"
      },
      "execution_count": 20,
      "outputs": [
        {
          "output_type": "stream",
          "name": "stdout",
          "text": [
            "Enter the number 1 10\n",
            "Enter the number 2 0\n",
            "Please provide number greater than 0\n"
          ]
        }
      ]
    },
    {
      "cell_type": "code",
      "source": [
        "##Try else finally \n",
        "try:\n",
        "    ##code block where exception can occur\n",
        "    a=int(input(\"Enter the number 1 \"))\n",
        "    b=int(input(\"Enter the number 2 \"))\n",
        "    c=a/b \n",
        "   \n",
        "    \n",
        "except NameError:\n",
        "    print(\"The user have not defined the variable\")\n",
        "except ZeroDivisionError:\n",
        "    print(\"Please provide number greater than 0\")\n",
        "except TypeError:\n",
        "    print(\"Try to make the datatype similar\")\n",
        "except Exception as ex:\n",
        "    print(ex)\n",
        "else:\n",
        "    print(c)\n",
        "finally:\n",
        "  print(\"the Execution is done\")"
      ],
      "metadata": {
        "colab": {
          "base_uri": "https://localhost:8080/"
        },
        "id": "h-6mt2qz82qW",
        "outputId": "d13f648d-7c71-4bc3-b32e-3df349277da4"
      },
      "execution_count": 21,
      "outputs": [
        {
          "output_type": "stream",
          "name": "stdout",
          "text": [
            "Enter the number 1 12\n",
            "Enter the number 2 0\n",
            "Please provide number greater than 0\n",
            "the Execution is done\n"
          ]
        }
      ]
    },
    {
      "cell_type": "markdown",
      "source": [
        "##Custom Exception "
      ],
      "metadata": {
        "id": "9YuzMluGBQYI"
      }
    },
    {
      "cell_type": "code",
      "source": [
        "class Error(Exception):\n",
        "  pass\n",
        "\n",
        "class dobException(Error):\n",
        "  pass\n",
        "\n",
        "  \n",
        "\n"
      ],
      "metadata": {
        "id": "EcxiGPxs_6uk"
      },
      "execution_count": 23,
      "outputs": []
    },
    {
      "cell_type": "code",
      "source": [
        "year=int(input(\"Enter the year of Birth \"))\n",
        "age=2021-year\n",
        "try:\n",
        "    if age<=30 & age>20:\n",
        "        print(\"The age is valid. You can apply for the exams\")\n",
        "    else:\n",
        "        raise dobException\n",
        "except dobException:\n",
        "    print(\"The age is not within the range. You cannot apply for the exams\")\n",
        "\n"
      ],
      "metadata": {
        "colab": {
          "base_uri": "https://localhost:8080/"
        },
        "id": "LFbJly8lB-Rg",
        "outputId": "c0d062ea-9652-4a44-e1b5-bb68349cba1e"
      },
      "execution_count": 28,
      "outputs": [
        {
          "output_type": "stream",
          "name": "stdout",
          "text": [
            "Enter the year of Birth 1996\n",
            "The age is not within the range. You cannot apply for the exams\n"
          ]
        }
      ]
    },
    {
      "cell_type": "code",
      "source": [
        ""
      ],
      "metadata": {
        "id": "5TjiT-FyCFPs"
      },
      "execution_count": null,
      "outputs": []
    }
  ]
}