{
  "nbformat": 4,
  "nbformat_minor": 0,
  "metadata": {
    "colab": {
      "name": "Python Operators .ipynb",
      "provenance": []
    },
    "kernelspec": {
      "name": "python3",
      "display_name": "Python 3"
    },
    "language_info": {
      "name": "python"
    }
  },
  "cells": [
    {
      "cell_type": "markdown",
      "source": [
        "##Python Operators \n",
        "\n",
        "1.Logical \n",
        "2.Equality\n",
        "3.Comparision\n",
        "4.Arithmetic\n"
      ],
      "metadata": {
        "id": "UybuFCHKlcQj"
      }
    },
    {
      "cell_type": "markdown",
      "source": [
        "1. Logical Operators\n",
        "In python following keywords are used for boolean operations -\n",
        "\n",
        "*   Not              Unary Negation\n",
        "*   And              Conditional AND\n",
        "*   Or               Conditional OR \n"
      ],
      "metadata": {
        "id": "B3cYByD3mFy6"
      }
    },
    {
      "cell_type": "code",
      "source": [
        "type(True)"
      ],
      "metadata": {
        "colab": {
          "base_uri": "https://localhost:8080/"
        },
        "id": "pYcWoCkdlrsA",
        "outputId": "a1dc0bd6-bcc1-42aa-bc09-012025a276e7"
      },
      "execution_count": 1,
      "outputs": [
        {
          "output_type": "execute_result",
          "data": {
            "text/plain": [
              "bool"
            ]
          },
          "metadata": {},
          "execution_count": 1
        }
      ]
    },
    {
      "cell_type": "code",
      "source": [
        "type(False)"
      ],
      "metadata": {
        "colab": {
          "base_uri": "https://localhost:8080/"
        },
        "id": "4y2P33DCmzsZ",
        "outputId": "88b7450a-fbad-4e98-a8d9-d70b55a8892b"
      },
      "execution_count": 2,
      "outputs": [
        {
          "output_type": "execute_result",
          "data": {
            "text/plain": [
              "bool"
            ]
          },
          "metadata": {},
          "execution_count": 2
        }
      ]
    },
    {
      "cell_type": "code",
      "source": [
        "bool(1)"
      ],
      "metadata": {
        "colab": {
          "base_uri": "https://localhost:8080/"
        },
        "id": "KWT7P1q7m19r",
        "outputId": "4d8d0b39-6646-4f29-f1fd-998f2232a52a"
      },
      "execution_count": 3,
      "outputs": [
        {
          "output_type": "execute_result",
          "data": {
            "text/plain": [
              "True"
            ]
          },
          "metadata": {},
          "execution_count": 3
        }
      ]
    },
    {
      "cell_type": "code",
      "source": [
        "bool(0)"
      ],
      "metadata": {
        "colab": {
          "base_uri": "https://localhost:8080/"
        },
        "id": "3am7J7Zgm3w3",
        "outputId": "5c1d403a-70b9-41fb-ca28-6a3055551946"
      },
      "execution_count": 4,
      "outputs": [
        {
          "output_type": "execute_result",
          "data": {
            "text/plain": [
              "False"
            ]
          },
          "metadata": {},
          "execution_count": 4
        }
      ]
    },
    {
      "cell_type": "code",
      "source": [
        "a=True \n",
        "b=False"
      ],
      "metadata": {
        "id": "7yIebBABm5p3"
      },
      "execution_count": 5,
      "outputs": []
    },
    {
      "cell_type": "code",
      "source": [
        "True and False"
      ],
      "metadata": {
        "colab": {
          "base_uri": "https://localhost:8080/"
        },
        "id": "b9iYwhn8nAIf",
        "outputId": "9301328b-6eb9-413e-ae4a-fc39abd7d39c"
      },
      "execution_count": 6,
      "outputs": [
        {
          "output_type": "execute_result",
          "data": {
            "text/plain": [
              "False"
            ]
          },
          "metadata": {},
          "execution_count": 6
        }
      ]
    },
    {
      "cell_type": "code",
      "source": [
        "True or False"
      ],
      "metadata": {
        "colab": {
          "base_uri": "https://localhost:8080/"
        },
        "id": "hsOGfy8DnCg_",
        "outputId": "d6ce4cfd-724d-49fd-d645-05a860997f49"
      },
      "execution_count": 7,
      "outputs": [
        {
          "output_type": "execute_result",
          "data": {
            "text/plain": [
              "True"
            ]
          },
          "metadata": {},
          "execution_count": 7
        }
      ]
    },
    {
      "cell_type": "code",
      "source": [
        "not True"
      ],
      "metadata": {
        "colab": {
          "base_uri": "https://localhost:8080/"
        },
        "id": "WREGv4gjnFFC",
        "outputId": "19c05d4f-f20f-4b99-9c24-28f384cb0102"
      },
      "execution_count": 8,
      "outputs": [
        {
          "output_type": "execute_result",
          "data": {
            "text/plain": [
              "False"
            ]
          },
          "metadata": {},
          "execution_count": 8
        }
      ]
    },
    {
      "cell_type": "code",
      "source": [
        "not False"
      ],
      "metadata": {
        "colab": {
          "base_uri": "https://localhost:8080/"
        },
        "id": "2ZyhShBQnIeK",
        "outputId": "a63cd429-0cba-455f-a4b1-898cc63b4d05"
      },
      "execution_count": 9,
      "outputs": [
        {
          "output_type": "execute_result",
          "data": {
            "text/plain": [
              "True"
            ]
          },
          "metadata": {},
          "execution_count": 9
        }
      ]
    },
    {
      "cell_type": "code",
      "source": [
        "age=int(input(\"Enter the age\"))\n",
        "if age>18 and age<=35:\n",
        "  print(\"Mid age\")"
      ],
      "metadata": {
        "colab": {
          "base_uri": "https://localhost:8080/"
        },
        "id": "0NL1ckMCnKIL",
        "outputId": "4099ae19-57a8-4c31-83d0-77ebfde3fa74"
      },
      "execution_count": 11,
      "outputs": [
        {
          "output_type": "stream",
          "name": "stdout",
          "text": [
            "Enter the age20\n",
            "Mid age\n"
          ]
        }
      ]
    },
    {
      "cell_type": "code",
      "source": [
        "age=int(input(\"Enter the age\"))\n",
        "if age>18 or age<=35:\n",
        "  print(\"Mid age\")"
      ],
      "metadata": {
        "colab": {
          "base_uri": "https://localhost:8080/"
        },
        "id": "Xm72_STJnQs-",
        "outputId": "0b4c6810-ca9d-4be1-9db5-f55ab1b3b20f"
      },
      "execution_count": 12,
      "outputs": [
        {
          "output_type": "stream",
          "name": "stdout",
          "text": [
            "Enter the age15\n",
            "Mid age\n"
          ]
        }
      ]
    },
    {
      "cell_type": "code",
      "source": [
        "age=int(input(\"Enter the age\"))\n",
        "if age<18 or age>=35:\n",
        "  print(\"Successful Execution\")"
      ],
      "metadata": {
        "colab": {
          "base_uri": "https://localhost:8080/"
        },
        "id": "-3cq2j_dncZG",
        "outputId": "0d4f90e8-aa04-4751-c672-afe77252d6e5"
      },
      "execution_count": 16,
      "outputs": [
        {
          "output_type": "stream",
          "name": "stdout",
          "text": [
            "Enter the age16\n",
            "Successful Execution\n"
          ]
        }
      ]
    },
    {
      "cell_type": "markdown",
      "source": [
        "2. Equality Operators\n",
        "Following operations are present in python for equlity check operation-\n",
        "\n",
        "\n",
        "\n",
        "1.   is :-     a is b returns true if variable/identifiers a and b points to the same object\n",
        "2.   is not :- a is not b returns true if variable/identifiers a and b points to the different object  \n",
        "3.  ==   :-  a == b returns true if variable/ identifiers a and b has same value\n",
        "4.  !=   :-  a != b returns true if variable/identifiers a and b has different value\n",
        "\n",
        "\n",
        "\n",
        "\n"
      ],
      "metadata": {
        "id": "8_oEPsUtnxsT"
      }
    },
    {
      "cell_type": "code",
      "source": [
        "a=\"Sagar\"\n",
        "b=\"Sagar\"\n",
        "\n",
        "a==b"
      ],
      "metadata": {
        "colab": {
          "base_uri": "https://localhost:8080/"
        },
        "id": "tEcwU6oKnnT3",
        "outputId": "dae7149a-987a-4f00-b452-37965f5a19e3"
      },
      "execution_count": 17,
      "outputs": [
        {
          "output_type": "execute_result",
          "data": {
            "text/plain": [
              "True"
            ]
          },
          "metadata": {},
          "execution_count": 17
        }
      ]
    },
    {
      "cell_type": "code",
      "source": [
        "a=\"Sagar\"\n",
        "b=\"Sagar1\"\n",
        "\n",
        "a==b"
      ],
      "metadata": {
        "colab": {
          "base_uri": "https://localhost:8080/"
        },
        "id": "3PjL9gjIpufv",
        "outputId": "83fb041f-244f-4983-fa58-7f07f28463e3"
      },
      "execution_count": 19,
      "outputs": [
        {
          "output_type": "execute_result",
          "data": {
            "text/plain": [
              "False"
            ]
          },
          "metadata": {},
          "execution_count": 19
        }
      ]
    },
    {
      "cell_type": "code",
      "source": [
        "age=int(input(\"enter the age\"))\n",
        "\n",
        "if age ==18:\n",
        "  print(\"you are in the teen age\")"
      ],
      "metadata": {
        "colab": {
          "base_uri": "https://localhost:8080/"
        },
        "id": "6r6XeG7Spy2L",
        "outputId": "38da75a1-3484-4b9f-ec5b-90158d49507e"
      },
      "execution_count": 22,
      "outputs": [
        {
          "output_type": "stream",
          "name": "stdout",
          "text": [
            "enter the age18\n",
            "you are in the teen age\n"
          ]
        }
      ]
    },
    {
      "cell_type": "code",
      "source": [
        "a=\"Sagar\"\n",
        "id(a)"
      ],
      "metadata": {
        "colab": {
          "base_uri": "https://localhost:8080/"
        },
        "id": "VLtfY8sxqDma",
        "outputId": "bd8b462c-9416-4ae5-f2f3-78b97ffdd0f8"
      },
      "execution_count": 23,
      "outputs": [
        {
          "output_type": "execute_result",
          "data": {
            "text/plain": [
              "139705578147312"
            ]
          },
          "metadata": {},
          "execution_count": 23
        }
      ]
    },
    {
      "cell_type": "code",
      "source": [
        "a=\"Sagar\"\n",
        "b=\"Sagar\"\n",
        "print(id(a))\n",
        "print(id(b))\n",
        "\n",
        "#Here we can see the id is same for the both the values a and b"
      ],
      "metadata": {
        "colab": {
          "base_uri": "https://localhost:8080/"
        },
        "id": "QWIq5Q6AqMGQ",
        "outputId": "d0fd10ca-1bee-4abe-def3-0eeff7542067"
      },
      "execution_count": 30,
      "outputs": [
        {
          "output_type": "stream",
          "name": "stdout",
          "text": [
            "139705578147312\n",
            "139705578147312\n"
          ]
        }
      ]
    },
    {
      "cell_type": "code",
      "source": [
        "a is b"
      ],
      "metadata": {
        "colab": {
          "base_uri": "https://localhost:8080/"
        },
        "id": "pWfqIoM7qVT2",
        "outputId": "7db311a8-d558-41a1-dde6-6c0e2f8ac0ca"
      },
      "execution_count": 25,
      "outputs": [
        {
          "output_type": "execute_result",
          "data": {
            "text/plain": [
              "True"
            ]
          },
          "metadata": {},
          "execution_count": 25
        }
      ]
    },
    {
      "cell_type": "code",
      "source": [
        "lst=[1,2,3]\n",
        "lst1=[1,2,3]\n",
        "print(id(lst))\n",
        "print(id(lst1))\n",
        "#when we create the collection using list id is different for the particular Object "
      ],
      "metadata": {
        "colab": {
          "base_uri": "https://localhost:8080/"
        },
        "id": "wrQljuupqXwk",
        "outputId": "7ab94c53-54dc-43dc-fe66-d4eca72c3f1b"
      },
      "execution_count": 29,
      "outputs": [
        {
          "output_type": "stream",
          "name": "stdout",
          "text": [
            "139705577642736\n",
            "139705577121984\n"
          ]
        }
      ]
    },
    {
      "cell_type": "code",
      "source": [
        "lst==lst1"
      ],
      "metadata": {
        "colab": {
          "base_uri": "https://localhost:8080/"
        },
        "id": "3m8wmgURqiKC",
        "outputId": "4fbe9cbf-8ca9-46f6-ba2c-3e4aaef3a66c"
      },
      "execution_count": 31,
      "outputs": [
        {
          "output_type": "execute_result",
          "data": {
            "text/plain": [
              "True"
            ]
          },
          "metadata": {},
          "execution_count": 31
        }
      ]
    },
    {
      "cell_type": "code",
      "source": [
        "lst is lst1"
      ],
      "metadata": {
        "colab": {
          "base_uri": "https://localhost:8080/"
        },
        "id": "3aQMV5IcrDEj",
        "outputId": "ead6d0a7-e0b7-4cab-abf7-ab843e0e0548"
      },
      "execution_count": 32,
      "outputs": [
        {
          "output_type": "execute_result",
          "data": {
            "text/plain": [
              "False"
            ]
          },
          "metadata": {},
          "execution_count": 32
        }
      ]
    },
    {
      "cell_type": "code",
      "source": [
        "lst is not lst1"
      ],
      "metadata": {
        "colab": {
          "base_uri": "https://localhost:8080/"
        },
        "id": "FFucfKgzrG0K",
        "outputId": "625a0581-7854-4ce3-ae2a-19e1df9c8995"
      },
      "execution_count": 33,
      "outputs": [
        {
          "output_type": "execute_result",
          "data": {
            "text/plain": [
              "True"
            ]
          },
          "metadata": {},
          "execution_count": 33
        }
      ]
    },
    {
      "cell_type": "code",
      "source": [
        "\"Sagar\" != \"Sagar1\""
      ],
      "metadata": {
        "colab": {
          "base_uri": "https://localhost:8080/"
        },
        "id": "FhwtIQKMrO_S",
        "outputId": "9cc2dd68-c14a-41fc-8e52-fc474a79c45f"
      },
      "execution_count": 36,
      "outputs": [
        {
          "output_type": "execute_result",
          "data": {
            "text/plain": [
              "True"
            ]
          },
          "metadata": {},
          "execution_count": 36
        }
      ]
    },
    {
      "cell_type": "markdown",
      "source": [
        "###3.Comparision Operator \n",
        "\n",
        "\n",
        "\n",
        " <   :- Less than , <=  :- Less than or equal to  , >   :- Greater than  , >=  :- Greater than or equal to \n",
        "\n",
        "\n",
        "\n"
      ],
      "metadata": {
        "id": "57LnK4APrawF"
      }
    },
    {
      "cell_type": "code",
      "source": [
        "marks= float(input(\"Enter the marks\"))\n",
        "\n",
        "if marks>35:\n",
        "  print(\"Pass\")\n",
        "elif marks>=50 and marks<=70:\n",
        "  print(\"First\")\n",
        "elif marks<35:\n",
        "  print(\"Fail\")"
      ],
      "metadata": {
        "colab": {
          "base_uri": "https://localhost:8080/"
        },
        "id": "yYme3PRbrjMa",
        "outputId": "c66986b8-e37b-4820-d9fb-9f005ff01fe3"
      },
      "execution_count": 41,
      "outputs": [
        {
          "output_type": "stream",
          "name": "stdout",
          "text": [
            "Enter the marks20\n",
            "Fail\n"
          ]
        }
      ]
    },
    {
      "cell_type": "code",
      "source": [
        "marks= float(input(\"Enter the marks\"))\n",
        "\n",
        "if marks>35:\n",
        "  print(\"Pass\")\n",
        "  if marks>=50 and marks<=70:\n",
        "    print(\"First\")\n",
        "elif marks<35:\n",
        "  print(\"Fail\")"
      ],
      "metadata": {
        "colab": {
          "base_uri": "https://localhost:8080/"
        },
        "id": "kXdo4bA6tiDF",
        "outputId": "87277d92-e30a-4630-b191-a078d970f073"
      },
      "execution_count": 43,
      "outputs": [
        {
          "output_type": "stream",
          "name": "stdout",
          "text": [
            "Enter the marks50\n",
            "Pass\n",
            "First\n"
          ]
        }
      ]
    },
    {
      "cell_type": "markdown",
      "source": [
        "##Arithmetic Operators\n",
        "Addition , Subtraction , Multiplication , True divison , Integer Division , The Modulo Operator "
      ],
      "metadata": {
        "id": "PbZa-i6KuOId"
      }
    },
    {
      "cell_type": "code",
      "source": [
        "24+24\n"
      ],
      "metadata": {
        "colab": {
          "base_uri": "https://localhost:8080/"
        },
        "id": "wmnRPsBmt6Cm",
        "outputId": "647fe42c-4bee-44af-9c08-3b9d5625dda8"
      },
      "execution_count": 44,
      "outputs": [
        {
          "output_type": "execute_result",
          "data": {
            "text/plain": [
              "48"
            ]
          },
          "metadata": {},
          "execution_count": 44
        }
      ]
    },
    {
      "cell_type": "code",
      "source": [
        "48-25"
      ],
      "metadata": {
        "colab": {
          "base_uri": "https://localhost:8080/"
        },
        "id": "4qqHBggeuyay",
        "outputId": "1c5b75a1-ed46-4499-b3b6-294b4e4cc8e5"
      },
      "execution_count": 45,
      "outputs": [
        {
          "output_type": "execute_result",
          "data": {
            "text/plain": [
              "23"
            ]
          },
          "metadata": {},
          "execution_count": 45
        }
      ]
    },
    {
      "cell_type": "code",
      "source": [
        "48*24"
      ],
      "metadata": {
        "colab": {
          "base_uri": "https://localhost:8080/"
        },
        "id": "OnbyzBFSuzWD",
        "outputId": "9df75a07-f98a-4cbb-caca-9d2fda6e7630"
      },
      "execution_count": 46,
      "outputs": [
        {
          "output_type": "execute_result",
          "data": {
            "text/plain": [
              "1152"
            ]
          },
          "metadata": {},
          "execution_count": 46
        }
      ]
    },
    {
      "cell_type": "code",
      "source": [
        "48/4"
      ],
      "metadata": {
        "colab": {
          "base_uri": "https://localhost:8080/"
        },
        "id": "co4O9nZBu1RS",
        "outputId": "2c0f2ae3-8ec1-45b4-9c7b-000bb7e1caf8"
      },
      "execution_count": 47,
      "outputs": [
        {
          "output_type": "execute_result",
          "data": {
            "text/plain": [
              "12.0"
            ]
          },
          "metadata": {},
          "execution_count": 47
        }
      ]
    },
    {
      "cell_type": "code",
      "source": [
        "48//2"
      ],
      "metadata": {
        "colab": {
          "base_uri": "https://localhost:8080/"
        },
        "id": "0969RLgYu3eA",
        "outputId": "5c1fefd7-ff58-4353-d087-3862e335aaef"
      },
      "execution_count": 48,
      "outputs": [
        {
          "output_type": "execute_result",
          "data": {
            "text/plain": [
              "24"
            ]
          },
          "metadata": {},
          "execution_count": 48
        }
      ]
    },
    {
      "cell_type": "code",
      "source": [
        "48//5  # provide the Round off"
      ],
      "metadata": {
        "colab": {
          "base_uri": "https://localhost:8080/"
        },
        "id": "db01cE-pu5J9",
        "outputId": "bcf19eb2-5a85-45bb-8963-4bca4908d238"
      },
      "execution_count": 50,
      "outputs": [
        {
          "output_type": "execute_result",
          "data": {
            "text/plain": [
              "9"
            ]
          },
          "metadata": {},
          "execution_count": 50
        }
      ]
    },
    {
      "cell_type": "code",
      "source": [
        ""
      ],
      "metadata": {
        "id": "FWLzJ3KTu9bH"
      },
      "execution_count": null,
      "outputs": []
    }
  ]
}