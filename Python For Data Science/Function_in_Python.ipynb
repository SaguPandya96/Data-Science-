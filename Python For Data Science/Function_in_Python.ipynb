{
  "nbformat": 4,
  "nbformat_minor": 0,
  "metadata": {
    "colab": {
      "name": "Function in Python.ipynb",
      "provenance": []
    },
    "kernelspec": {
      "name": "python3",
      "display_name": "Python 3"
    },
    "language_info": {
      "name": "python"
    }
  },
  "cells": [
    {
      "cell_type": "markdown",
      "source": [
        "#Functions in Python "
      ],
      "metadata": {
        "id": "XTL9fyxt7GcU"
      }
    },
    {
      "cell_type": "markdown",
      "source": [
        "1. Why Functions\n",
        "2. Function Definition \n",
        "3. Positional and keywords arguments in function "
      ],
      "metadata": {
        "id": "tWLPcVGp7L9g"
      }
    },
    {
      "cell_type": "code",
      "execution_count": 3,
      "metadata": {
        "id": "dTv7ABXb69ET"
      },
      "outputs": [],
      "source": [
        "def even_odd(num):\n",
        "  if num%2==0:\n",
        "    print(\"the number is even\")\n",
        "  else:\n",
        "    print(\"the number is odd\")"
      ]
    },
    {
      "cell_type": "code",
      "source": [
        "even_odd(24)  #here added positional argument "
      ],
      "metadata": {
        "colab": {
          "base_uri": "https://localhost:8080/"
        },
        "id": "dDNQ6WFf72UX",
        "outputId": "500511fe-a937-4830-9ebd-38d31fabf4ea"
      },
      "execution_count": 6,
      "outputs": [
        {
          "output_type": "stream",
          "name": "stdout",
          "text": [
            "the number is even\n"
          ]
        }
      ]
    },
    {
      "cell_type": "code",
      "source": [
        "even_odd(13)"
      ],
      "metadata": {
        "colab": {
          "base_uri": "https://localhost:8080/"
        },
        "id": "Fv_x77E97_St",
        "outputId": "4132cc14-80d9-451b-f70f-4aaf193ab5f4"
      },
      "execution_count": 7,
      "outputs": [
        {
          "output_type": "stream",
          "name": "stdout",
          "text": [
            "the number is odd\n"
          ]
        }
      ]
    },
    {
      "cell_type": "code",
      "source": [
        "#print vs return \n",
        "def hello_world():\n",
        "  return \"hello welcome\"\n"
      ],
      "metadata": {
        "id": "TTNyTD0l8BiM"
      },
      "execution_count": 11,
      "outputs": []
    },
    {
      "cell_type": "code",
      "source": [
        "val=hello_world()"
      ],
      "metadata": {
        "id": "M6GIprAH8RqZ"
      },
      "execution_count": 14,
      "outputs": []
    },
    {
      "cell_type": "code",
      "source": [
        "print(val)"
      ],
      "metadata": {
        "colab": {
          "base_uri": "https://localhost:8080/"
        },
        "id": "xjxaO34v8T7c",
        "outputId": "a6d5c278-fe52-4fc7-f7f7-afc442e18742"
      },
      "execution_count": 15,
      "outputs": [
        {
          "output_type": "stream",
          "name": "stdout",
          "text": [
            "hello welcome\n"
          ]
        }
      ]
    },
    {
      "cell_type": "code",
      "source": [
        "def add_number(num1,num2):\n",
        "  return num1+num2"
      ],
      "metadata": {
        "id": "lcz1lhSP8XJB"
      },
      "execution_count": 17,
      "outputs": []
    },
    {
      "cell_type": "code",
      "source": [
        "val=add_number(13,36)"
      ],
      "metadata": {
        "id": "j6049y_18oJ4"
      },
      "execution_count": 18,
      "outputs": []
    },
    {
      "cell_type": "code",
      "source": [
        "val"
      ],
      "metadata": {
        "colab": {
          "base_uri": "https://localhost:8080/"
        },
        "id": "DmYuqXoe8whB",
        "outputId": "ae75e861-16c1-46e5-817e-e16613af9363"
      },
      "execution_count": 19,
      "outputs": [
        {
          "output_type": "execute_result",
          "data": {
            "text/plain": [
              "49"
            ]
          },
          "metadata": {},
          "execution_count": 19
        }
      ]
    },
    {
      "cell_type": "code",
      "source": [
        "def add_number(num1,num2):\n",
        "      return num1+num2"
      ],
      "metadata": {
        "id": "2wK1Q2158xdR"
      },
      "execution_count": 20,
      "outputs": []
    },
    {
      "cell_type": "code",
      "source": [
        "val=add_number(45,50)"
      ],
      "metadata": {
        "id": "KcWKgq8989M9"
      },
      "execution_count": 21,
      "outputs": []
    },
    {
      "cell_type": "code",
      "source": [
        "val"
      ],
      "metadata": {
        "colab": {
          "base_uri": "https://localhost:8080/"
        },
        "id": "AdwHTarl9A50",
        "outputId": "9ba9a4b9-e8e9-4515-985a-0e81ca9a1810"
      },
      "execution_count": 22,
      "outputs": [
        {
          "output_type": "execute_result",
          "data": {
            "text/plain": [
              "95"
            ]
          },
          "metadata": {},
          "execution_count": 22
        }
      ]
    },
    {
      "cell_type": "code",
      "source": [
        "#Positional Argument\n",
        "#keyword argument\n",
        "\n",
        "def hello(name,age=26):\n",
        "    print(\"My name is {} and age is {}\".format(name,age))"
      ],
      "metadata": {
        "id": "urtP3cPf9Bho"
      },
      "execution_count": 33,
      "outputs": []
    },
    {
      "cell_type": "code",
      "source": [
        "hello('Sagu')"
      ],
      "metadata": {
        "colab": {
          "base_uri": "https://localhost:8080/"
        },
        "id": "w8cWgk-g9F5M",
        "outputId": "22ec998c-7c6f-476f-b30f-e1f3d5b4ce9f"
      },
      "execution_count": 34,
      "outputs": [
        {
          "output_type": "stream",
          "name": "stdout",
          "text": [
            "My name is Sagu and age is 26\n"
          ]
        }
      ]
    },
    {
      "cell_type": "code",
      "source": [
        "def hello (*args,**kwargs):  # Define with the argument and key word argument using with args and kwargs\n",
        "    print(args)\n",
        "    print(kwargs)"
      ],
      "metadata": {
        "id": "hu9phBGr_VNt"
      },
      "execution_count": 38,
      "outputs": []
    },
    {
      "cell_type": "code",
      "source": [
        "hello(\"Sagar\",\"Pandya\",age=26,dob=1996)"
      ],
      "metadata": {
        "colab": {
          "base_uri": "https://localhost:8080/"
        },
        "id": "0w1CYYrqAObN",
        "outputId": "f45eb9b7-6f43-471e-f26a-25fe13c40f58"
      },
      "execution_count": 37,
      "outputs": [
        {
          "output_type": "stream",
          "name": "stdout",
          "text": [
            "('Sagar', 'Pandya')\n",
            "{'age': 26, 'dob': 1996}\n"
          ]
        }
      ]
    },
    {
      "cell_type": "code",
      "source": [
        "lst=[1,2,3,4,5,6,7,8,9]"
      ],
      "metadata": {
        "id": "elTER9-AARzJ"
      },
      "execution_count": 46,
      "outputs": []
    },
    {
      "cell_type": "code",
      "source": [
        "def evenoddsum(lst):\n",
        "  even_sum=0\n",
        "  odd_sum=0\n",
        "  for i in lst:\n",
        "      if i%2==0:\n",
        "        even_sum=even_sum+i\n",
        "      else:\n",
        "              odd_sum=odd_sum+i\n",
        "      return even_sum,odd_sum"
      ],
      "metadata": {
        "id": "LUs7fqXmA0pc"
      },
      "execution_count": 47,
      "outputs": []
    },
    {
      "cell_type": "code",
      "source": [
        "evenoddsum(lst)"
      ],
      "metadata": {
        "colab": {
          "base_uri": "https://localhost:8080/"
        },
        "id": "XaP15e_bBUjJ",
        "outputId": "28d57936-23d4-41a5-ab44-ecbb45a66666"
      },
      "execution_count": 48,
      "outputs": [
        {
          "output_type": "execute_result",
          "data": {
            "text/plain": [
              "(0, 1)"
            ]
          },
          "metadata": {},
          "execution_count": 48
        }
      ]
    },
    {
      "cell_type": "markdown",
      "source": [
        "##Lambda Function \n",
        "anonymous function\n",
        "\n",
        "A function with no name"
      ],
      "metadata": {
        "id": "K9R2XxAuNRx8"
      }
    },
    {
      "cell_type": "code",
      "source": [
        "def addition(a,b):\n",
        "   return a+b"
      ],
      "metadata": {
        "id": "ZdhwujfqNRUr"
      },
      "execution_count": 49,
      "outputs": []
    },
    {
      "cell_type": "code",
      "source": [
        "addition(4,5)"
      ],
      "metadata": {
        "colab": {
          "base_uri": "https://localhost:8080/"
        },
        "id": "_XXZdZ3YBtfV",
        "outputId": "2f14faa4-162a-4c54-d83c-759009a563e5"
      },
      "execution_count": 50,
      "outputs": [
        {
          "output_type": "execute_result",
          "data": {
            "text/plain": [
              "9"
            ]
          },
          "metadata": {},
          "execution_count": 50
        }
      ]
    },
    {
      "cell_type": "code",
      "source": [
        "addition=lambda a,b:a+b"
      ],
      "metadata": {
        "id": "kEHnV8qDNiAI"
      },
      "execution_count": 51,
      "outputs": []
    },
    {
      "cell_type": "code",
      "source": [
        "addition(15,20)"
      ],
      "metadata": {
        "colab": {
          "base_uri": "https://localhost:8080/"
        },
        "id": "RFF91BIKN1Kq",
        "outputId": "cdd859f4-74c4-4bc8-f960-6be18b3890e6"
      },
      "execution_count": 53,
      "outputs": [
        {
          "output_type": "execute_result",
          "data": {
            "text/plain": [
              "35"
            ]
          },
          "metadata": {},
          "execution_count": 53
        }
      ]
    },
    {
      "cell_type": "code",
      "source": [
        "def even(num):\n",
        "  if num%2==0:\n",
        "      return True"
      ],
      "metadata": {
        "id": "wmsy6b2gN2TG"
      },
      "execution_count": 56,
      "outputs": []
    },
    {
      "cell_type": "code",
      "source": [
        "even(24)"
      ],
      "metadata": {
        "colab": {
          "base_uri": "https://localhost:8080/"
        },
        "id": "E9dUoeW5OGdi",
        "outputId": "615348c3-645d-454c-a530-cf97b5736d75"
      },
      "execution_count": 57,
      "outputs": [
        {
          "output_type": "execute_result",
          "data": {
            "text/plain": [
              "True"
            ]
          },
          "metadata": {},
          "execution_count": 57
        }
      ]
    },
    {
      "cell_type": "code",
      "source": [
        "even1=lambda a:a%2==0"
      ],
      "metadata": {
        "id": "ZhrtnMMVONrX"
      },
      "execution_count": 60,
      "outputs": []
    },
    {
      "cell_type": "code",
      "source": [
        "even1(12)"
      ],
      "metadata": {
        "colab": {
          "base_uri": "https://localhost:8080/"
        },
        "id": "n5i2W9S6OSoi",
        "outputId": "84662cfe-d495-434a-b2d6-3f3bcc87373f"
      },
      "execution_count": 61,
      "outputs": [
        {
          "output_type": "execute_result",
          "data": {
            "text/plain": [
              "True"
            ]
          },
          "metadata": {},
          "execution_count": 61
        }
      ]
    },
    {
      "cell_type": "code",
      "source": [
        "def addition(x,y,z):\n",
        "    return x+y+z"
      ],
      "metadata": {
        "id": "5z9lZBAkOblG"
      },
      "execution_count": 62,
      "outputs": []
    },
    {
      "cell_type": "code",
      "source": [
        "addition(2,3,4)"
      ],
      "metadata": {
        "colab": {
          "base_uri": "https://localhost:8080/"
        },
        "id": "DL8zszZoOk__",
        "outputId": "fd4b15d6-a754-4bdb-ea6c-f5ae9d673be2"
      },
      "execution_count": 63,
      "outputs": [
        {
          "output_type": "execute_result",
          "data": {
            "text/plain": [
              "9"
            ]
          },
          "metadata": {},
          "execution_count": 63
        }
      ]
    },
    {
      "cell_type": "code",
      "source": [
        "addition=lambda x,y,z: x+y+z"
      ],
      "metadata": {
        "id": "EmoWB2rqOnK4"
      },
      "execution_count": 64,
      "outputs": []
    },
    {
      "cell_type": "code",
      "source": [
        "addition(2,3,4)"
      ],
      "metadata": {
        "colab": {
          "base_uri": "https://localhost:8080/"
        },
        "id": "gUnxeE44OzIl",
        "outputId": "ac5b1ef7-a1da-4aca-e6c6-66805c82ef0c"
      },
      "execution_count": 65,
      "outputs": [
        {
          "output_type": "execute_result",
          "data": {
            "text/plain": [
              "9"
            ]
          },
          "metadata": {},
          "execution_count": 65
        }
      ]
    },
    {
      "cell_type": "markdown",
      "source": [
        "##Map Function \n",
        " is a built-in function that allows you to process and transform all the items in an iterable without using an explicit for loop"
      ],
      "metadata": {
        "id": "JjjXOqZjPCzy"
      }
    },
    {
      "cell_type": "code",
      "source": [
        "def even_or_odd(num):\n",
        "  if num%2==0:\n",
        "    return \"The {} is Even\".format(num)\n",
        "  else:\n",
        "    return \"The {} is Odd\".format(num)"
      ],
      "metadata": {
        "id": "dXKoU4gEO1ZO"
      },
      "execution_count": 66,
      "outputs": []
    },
    {
      "cell_type": "code",
      "source": [
        "even_or_odd(24)"
      ],
      "metadata": {
        "colab": {
          "base_uri": "https://localhost:8080/",
          "height": 35
        },
        "id": "0iUbygNDRnGT",
        "outputId": "6194bcff-2c4b-442b-8c7d-422629353ed6"
      },
      "execution_count": 67,
      "outputs": [
        {
          "output_type": "execute_result",
          "data": {
            "text/plain": [
              "'The 24 is Even'"
            ],
            "application/vnd.google.colaboratory.intrinsic+json": {
              "type": "string"
            }
          },
          "metadata": {},
          "execution_count": 67
        }
      ]
    },
    {
      "cell_type": "code",
      "source": [
        "lst=[1,2,3,4,5,6,7,8,9,24,56,78]"
      ],
      "metadata": {
        "id": "XtXMjSEqRrVG"
      },
      "execution_count": 68,
      "outputs": []
    },
    {
      "cell_type": "code",
      "source": [
        "list(map(even_or_odd,lst)) "
      ],
      "metadata": {
        "colab": {
          "base_uri": "https://localhost:8080/"
        },
        "id": "Yy_VJw7PRyrM",
        "outputId": "6c92143e-8865-466a-9ed8-9d6c35bd1b72"
      },
      "execution_count": 71,
      "outputs": [
        {
          "output_type": "execute_result",
          "data": {
            "text/plain": [
              "['The 1 is Odd',\n",
              " 'The 2 is Even',\n",
              " 'The 3 is Odd',\n",
              " 'The 4 is Even',\n",
              " 'The 5 is Odd',\n",
              " 'The 6 is Even',\n",
              " 'The 7 is Odd',\n",
              " 'The 8 is Even',\n",
              " 'The 9 is Odd',\n",
              " 'The 24 is Even',\n",
              " 'The 56 is Even',\n",
              " 'The 78 is Even']"
            ]
          },
          "metadata": {},
          "execution_count": 71
        }
      ]
    }
  ]
}