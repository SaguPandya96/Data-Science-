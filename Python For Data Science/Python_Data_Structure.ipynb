{
  "nbformat": 4,
  "nbformat_minor": 0,
  "metadata": {
    "colab": {
      "name": "Python Data Structure.ipynb",
      "provenance": []
    },
    "kernelspec": {
      "name": "python3",
      "display_name": "Python 3"
    },
    "language_info": {
      "name": "python"
    }
  },
  "cells": [
    {
      "cell_type": "markdown",
      "source": [
        "#Python Data Structures and Boolean"
      ],
      "metadata": {
        "id": "_2nRqcrigguj"
      }
    },
    {
      "cell_type": "markdown",
      "source": [
        "1. Boolean\n",
        "2. Boolean and Logical Operators\n",
        "3. Lists\n",
        "4. Comparison operators\n",
        "5. Dictionaries\n",
        "6. Tuples\n",
        "7. Sets"
      ],
      "metadata": {
        "id": "gLQKyUfWgmS4"
      }
    },
    {
      "cell_type": "markdown",
      "source": [
        "##Boolean Variables"
      ],
      "metadata": {
        "id": "JTsSFan3g3Ix"
      }
    },
    {
      "cell_type": "markdown",
      "source": [
        "Boolean values are the two constant objects False and True.\n",
        "\n",
        "They are used to represent truth values (other values can also be considered false or true).\n",
        "\n",
        "In numeric contexts (for example, when used as the argument to an arithmetic operator), they behave like the integers 0 and 1, respectively.\n",
        "\n",
        "The built-in function bool() can be used to cast any value to a Boolean, if the value can be interpreted as a truth value\n",
        "\n",
        "They are written as False and True, respectively."
      ],
      "metadata": {
        "id": "SjcgHBnFg6TY"
      }
    },
    {
      "cell_type": "code",
      "source": [
        "bool()"
      ],
      "metadata": {
        "colab": {
          "base_uri": "https://localhost:8080/"
        },
        "id": "QCH304bWgk-H",
        "outputId": "b701a3e1-808d-481b-d99c-2376d3698d36"
      },
      "execution_count": 1,
      "outputs": [
        {
          "output_type": "execute_result",
          "data": {
            "text/plain": [
              "False"
            ]
          },
          "metadata": {},
          "execution_count": 1
        }
      ]
    },
    {
      "cell_type": "code",
      "source": [
        "print(True,False)"
      ],
      "metadata": {
        "colab": {
          "base_uri": "https://localhost:8080/"
        },
        "id": "3iWSGHbLhTWc",
        "outputId": "21aa943d-d942-4be9-fa14-81c25eded3af"
      },
      "execution_count": 4,
      "outputs": [
        {
          "output_type": "stream",
          "name": "stdout",
          "text": [
            "True False\n"
          ]
        }
      ]
    },
    {
      "cell_type": "code",
      "source": [
        "type(True)"
      ],
      "metadata": {
        "colab": {
          "base_uri": "https://localhost:8080/"
        },
        "id": "ezlHBvK2hXE7",
        "outputId": "b95292df-3d3f-420c-ade7-0a957641d21e"
      },
      "execution_count": 6,
      "outputs": [
        {
          "output_type": "execute_result",
          "data": {
            "text/plain": [
              "bool"
            ]
          },
          "metadata": {},
          "execution_count": 6
        }
      ]
    },
    {
      "cell_type": "code",
      "source": [
        "type(False)"
      ],
      "metadata": {
        "colab": {
          "base_uri": "https://localhost:8080/"
        },
        "id": "uiPfWlmlhdYO",
        "outputId": "560018c2-7c12-4d04-b3e9-492607128751"
      },
      "execution_count": 7,
      "outputs": [
        {
          "output_type": "execute_result",
          "data": {
            "text/plain": [
              "bool"
            ]
          },
          "metadata": {},
          "execution_count": 7
        }
      ]
    },
    {
      "cell_type": "code",
      "source": [
        "my_str=\"Sagar Pandya\""
      ],
      "metadata": {
        "id": "3mFq1C1phgzD"
      },
      "execution_count": 8,
      "outputs": []
    },
    {
      "cell_type": "code",
      "source": [
        "my_str.istitle()"
      ],
      "metadata": {
        "colab": {
          "base_uri": "https://localhost:8080/"
        },
        "id": "WDaGD-4mhkQD",
        "outputId": "fd684e3c-f89c-422e-e034-2c9b0c8ef20c"
      },
      "execution_count": 9,
      "outputs": [
        {
          "output_type": "execute_result",
          "data": {
            "text/plain": [
              "True"
            ]
          },
          "metadata": {},
          "execution_count": 9
        }
      ]
    },
    {
      "cell_type": "code",
      "source": [
        "print(my_str.isalnum())  #check if all char are numbers\n",
        "print(my_str.isalpha())  #check if all char in the string are alphabetic\n",
        "print(my_str.isdigit())  #test if string contains digits \n",
        "print(my_str.istitle())  #test if string contains title words\n",
        "print(my_str.isupper()) #test if string contains upper case\n",
        "print(my_str.islower())  #test if string contains lower case\n",
        "print(my_str.isspace())  #test if string contaims lower space \n",
        "print(my_str.endswith('a')) #test if string ends with a \n",
        "print(my_str.startswith('S')) #test if string startwith S"
      ],
      "metadata": {
        "colab": {
          "base_uri": "https://localhost:8080/"
        },
        "id": "Cpsch-iXiHez",
        "outputId": "6a67f764-387e-482e-8317-b56c904913fa"
      },
      "execution_count": 12,
      "outputs": [
        {
          "output_type": "stream",
          "name": "stdout",
          "text": [
            "False\n",
            "False\n",
            "False\n",
            "True\n",
            "False\n",
            "False\n",
            "False\n",
            "True\n",
            "True\n"
          ]
        }
      ]
    },
    {
      "cell_type": "markdown",
      "source": [
        "##Boolean and logical operators"
      ],
      "metadata": {
        "id": "-NXlAKsZjpkJ"
      }
    },
    {
      "cell_type": "code",
      "source": [
        "True and True"
      ],
      "metadata": {
        "colab": {
          "base_uri": "https://localhost:8080/"
        },
        "id": "LzBqcqE3jDpF",
        "outputId": "4831eed1-4a5d-4b30-ce63-00e705e95ea4"
      },
      "execution_count": 13,
      "outputs": [
        {
          "output_type": "execute_result",
          "data": {
            "text/plain": [
              "True"
            ]
          },
          "metadata": {},
          "execution_count": 13
        }
      ]
    },
    {
      "cell_type": "code",
      "source": [
        "True and False"
      ],
      "metadata": {
        "colab": {
          "base_uri": "https://localhost:8080/"
        },
        "id": "ebHTQGRFkB1H",
        "outputId": "39c58dd0-3ad6-49a7-92f6-fee687c71027"
      },
      "execution_count": 14,
      "outputs": [
        {
          "output_type": "execute_result",
          "data": {
            "text/plain": [
              "False"
            ]
          },
          "metadata": {},
          "execution_count": 14
        }
      ]
    },
    {
      "cell_type": "code",
      "source": [
        "False and False"
      ],
      "metadata": {
        "colab": {
          "base_uri": "https://localhost:8080/"
        },
        "id": "mhKU-t-okDBT",
        "outputId": "d6b6d1af-4f24-4375-f05d-0fd51dc9ef1f"
      },
      "execution_count": 15,
      "outputs": [
        {
          "output_type": "execute_result",
          "data": {
            "text/plain": [
              "False"
            ]
          },
          "metadata": {},
          "execution_count": 15
        }
      ]
    },
    {
      "cell_type": "code",
      "source": [
        "False and True"
      ],
      "metadata": {
        "colab": {
          "base_uri": "https://localhost:8080/"
        },
        "id": "0Kd7eahbkEfH",
        "outputId": "6c1b8225-d3f6-4bc8-d200-0ff630a15208"
      },
      "execution_count": 16,
      "outputs": [
        {
          "output_type": "execute_result",
          "data": {
            "text/plain": [
              "False"
            ]
          },
          "metadata": {},
          "execution_count": 16
        }
      ]
    },
    {
      "cell_type": "code",
      "source": [
        "True or False"
      ],
      "metadata": {
        "colab": {
          "base_uri": "https://localhost:8080/"
        },
        "id": "j3sgHmx1kFiL",
        "outputId": "08294e17-fd19-4271-8b15-f445b53d7f66"
      },
      "execution_count": 17,
      "outputs": [
        {
          "output_type": "execute_result",
          "data": {
            "text/plain": [
              "True"
            ]
          },
          "metadata": {},
          "execution_count": 17
        }
      ]
    },
    {
      "cell_type": "code",
      "source": [
        "True or True"
      ],
      "metadata": {
        "colab": {
          "base_uri": "https://localhost:8080/"
        },
        "id": "pN3E8eoBkJuf",
        "outputId": "33dcce65-8487-4fb7-9b36-5f16270d59f0"
      },
      "execution_count": 18,
      "outputs": [
        {
          "output_type": "execute_result",
          "data": {
            "text/plain": [
              "True"
            ]
          },
          "metadata": {},
          "execution_count": 18
        }
      ]
    },
    {
      "cell_type": "code",
      "source": [
        "False or True"
      ],
      "metadata": {
        "colab": {
          "base_uri": "https://localhost:8080/"
        },
        "id": "wJ-86GfqkOFe",
        "outputId": "2b146ee3-241b-40b9-a4c4-eb05a76abdac"
      },
      "execution_count": 19,
      "outputs": [
        {
          "output_type": "execute_result",
          "data": {
            "text/plain": [
              "True"
            ]
          },
          "metadata": {},
          "execution_count": 19
        }
      ]
    },
    {
      "cell_type": "code",
      "source": [
        "False or False"
      ],
      "metadata": {
        "colab": {
          "base_uri": "https://localhost:8080/"
        },
        "id": "BeMefDufkPtb",
        "outputId": "8951460b-227a-4b7e-9c8e-b4ba678f4abb"
      },
      "execution_count": 20,
      "outputs": [
        {
          "output_type": "execute_result",
          "data": {
            "text/plain": [
              "False"
            ]
          },
          "metadata": {},
          "execution_count": 20
        }
      ]
    },
    {
      "cell_type": "code",
      "source": [
        "str_example=\"Hello World\"\n",
        "my_str=\"Sagar\""
      ],
      "metadata": {
        "id": "VUcjbsrckRz4"
      },
      "execution_count": 21,
      "outputs": []
    },
    {
      "cell_type": "code",
      "source": [
        "my_str.isalpha() or str_example.isnum()"
      ],
      "metadata": {
        "colab": {
          "base_uri": "https://localhost:8080/"
        },
        "id": "bp8810f5kb6w",
        "outputId": "0188b46e-6d95-4f6c-fda4-5ba8eb15344e"
      },
      "execution_count": 23,
      "outputs": [
        {
          "output_type": "execute_result",
          "data": {
            "text/plain": [
              "True"
            ]
          },
          "metadata": {},
          "execution_count": 23
        }
      ]
    },
    {
      "cell_type": "markdown",
      "source": [
        "##List"
      ],
      "metadata": {
        "id": "A2oSaFKckjeH"
      }
    },
    {
      "cell_type": "markdown",
      "source": [
        "A list is a data structure in Python that is a mutable, or changeable, ordered sequence of elements. Each element or value that is inside of a list is called an item. Just as strings are defined as characters between quotes, lists are defined by having values between square brackets"
      ],
      "metadata": {
        "id": "DoW1RZwkknb_"
      }
    },
    {
      "cell_type": "code",
      "source": [
        "type([])"
      ],
      "metadata": {
        "colab": {
          "base_uri": "https://localhost:8080/"
        },
        "id": "XkD_4ChJke4f",
        "outputId": "e748e473-7c9f-4df0-baac-02a3b00e306e"
      },
      "execution_count": 24,
      "outputs": [
        {
          "output_type": "execute_result",
          "data": {
            "text/plain": [
              "list"
            ]
          },
          "metadata": {},
          "execution_count": 24
        }
      ]
    },
    {
      "cell_type": "code",
      "source": [
        "lst_example=[]"
      ],
      "metadata": {
        "id": "BtfaIuTamCe7"
      },
      "execution_count": 27,
      "outputs": []
    },
    {
      "cell_type": "code",
      "source": [
        "type(lst_example)"
      ],
      "metadata": {
        "colab": {
          "base_uri": "https://localhost:8080/"
        },
        "id": "-Sg4WTmAmJRM",
        "outputId": "37547942-ed6d-4644-c8ad-1a6ec09d8a44"
      },
      "execution_count": 28,
      "outputs": [
        {
          "output_type": "execute_result",
          "data": {
            "text/plain": [
              "list"
            ]
          },
          "metadata": {},
          "execution_count": 28
        }
      ]
    },
    {
      "cell_type": "code",
      "source": [
        "lst=list()"
      ],
      "metadata": {
        "id": "R8labRHUmWBS"
      },
      "execution_count": 29,
      "outputs": []
    },
    {
      "cell_type": "code",
      "source": [
        "type(lst)"
      ],
      "metadata": {
        "colab": {
          "base_uri": "https://localhost:8080/"
        },
        "id": "8bfNm7aymXiq",
        "outputId": "676b8e19-4460-499c-d3c8-466ea24ab6e5"
      },
      "execution_count": 30,
      "outputs": [
        {
          "output_type": "execute_result",
          "data": {
            "text/plain": [
              "list"
            ]
          },
          "metadata": {},
          "execution_count": 30
        }
      ]
    },
    {
      "cell_type": "code",
      "source": [
        "lst=['Mathematics','chemistry','Physics','100','200','400']"
      ],
      "metadata": {
        "id": "9y7Lqra8mYsy"
      },
      "execution_count": 31,
      "outputs": []
    },
    {
      "cell_type": "code",
      "source": [
        "len(lst)"
      ],
      "metadata": {
        "colab": {
          "base_uri": "https://localhost:8080/"
        },
        "id": "BsNfoXP_mtMj",
        "outputId": "b91c5630-c9cc-43de-9e61-33e9be757abb"
      },
      "execution_count": 32,
      "outputs": [
        {
          "output_type": "execute_result",
          "data": {
            "text/plain": [
              "6"
            ]
          },
          "metadata": {},
          "execution_count": 32
        }
      ]
    },
    {
      "cell_type": "code",
      "source": [
        "type(lst)"
      ],
      "metadata": {
        "colab": {
          "base_uri": "https://localhost:8080/"
        },
        "id": "bx_RW3L7muoH",
        "outputId": "dddcb90f-2a41-4877-a2ea-a91661a3026d"
      },
      "execution_count": 33,
      "outputs": [
        {
          "output_type": "execute_result",
          "data": {
            "text/plain": [
              "list"
            ]
          },
          "metadata": {},
          "execution_count": 33
        }
      ]
    },
    {
      "cell_type": "markdown",
      "source": [
        "##Inbuilt Function For list "
      ],
      "metadata": {
        "id": "Ce-hFMgHnIpC"
      }
    },
    {
      "cell_type": "markdown",
      "source": [
        "##Append"
      ],
      "metadata": {
        "id": "64a_i7kgmxMj"
      }
    },
    {
      "cell_type": "code",
      "source": [
        "##Append is used to add elements in the list "
      ],
      "metadata": {
        "id": "tUFBvCQQmwHL"
      },
      "execution_count": 34,
      "outputs": []
    },
    {
      "cell_type": "code",
      "source": [
        "lst.append(\"Sagar Pandya\")"
      ],
      "metadata": {
        "id": "gEyGKZvjm9dv"
      },
      "execution_count": 35,
      "outputs": []
    },
    {
      "cell_type": "code",
      "source": [
        "lst "
      ],
      "metadata": {
        "colab": {
          "base_uri": "https://localhost:8080/"
        },
        "id": "jBjInKcWnAlW",
        "outputId": "e37337af-26e3-4027-e74b-46776f1e4865"
      },
      "execution_count": 36,
      "outputs": [
        {
          "output_type": "execute_result",
          "data": {
            "text/plain": [
              "['Mathematics', 'chemistry', 'Physics', '100', '200', '400', 'Sagar Pandya']"
            ]
          },
          "metadata": {},
          "execution_count": 36
        }
      ]
    },
    {
      "cell_type": "code",
      "source": [
        "lst.append(\"Ravi\")"
      ],
      "metadata": {
        "id": "mTyMVefBnPPb"
      },
      "execution_count": 37,
      "outputs": []
    },
    {
      "cell_type": "code",
      "source": [
        "lst"
      ],
      "metadata": {
        "colab": {
          "base_uri": "https://localhost:8080/"
        },
        "id": "erTk3YUBnTzK",
        "outputId": "e8205a8d-baa6-4fc8-9b3a-828fb2cd3329"
      },
      "execution_count": 38,
      "outputs": [
        {
          "output_type": "execute_result",
          "data": {
            "text/plain": [
              "['Mathematics',\n",
              " 'chemistry',\n",
              " 'Physics',\n",
              " '100',\n",
              " '200',\n",
              " '400',\n",
              " 'Sagar Pandya',\n",
              " 'Ravi']"
            ]
          },
          "metadata": {},
          "execution_count": 38
        }
      ]
    },
    {
      "cell_type": "code",
      "source": [
        "##indexing in list\n",
        "lst[2]"
      ],
      "metadata": {
        "colab": {
          "base_uri": "https://localhost:8080/",
          "height": 35
        },
        "id": "BA7thhYqnZab",
        "outputId": "3a5d1e7f-de60-4330-e474-addc7be1b7ac"
      },
      "execution_count": 39,
      "outputs": [
        {
          "output_type": "execute_result",
          "data": {
            "text/plain": [
              "'Physics'"
            ],
            "application/vnd.google.colaboratory.intrinsic+json": {
              "type": "string"
            }
          },
          "metadata": {},
          "execution_count": 39
        }
      ]
    },
    {
      "cell_type": "code",
      "source": [
        "lst[6]"
      ],
      "metadata": {
        "colab": {
          "base_uri": "https://localhost:8080/",
          "height": 35
        },
        "id": "MXqCwo_DnetX",
        "outputId": "70ea7762-4529-4b69-c458-697e7a8a8ec8"
      },
      "execution_count": 40,
      "outputs": [
        {
          "output_type": "execute_result",
          "data": {
            "text/plain": [
              "'Sagar Pandya'"
            ],
            "application/vnd.google.colaboratory.intrinsic+json": {
              "type": "string"
            }
          },
          "metadata": {},
          "execution_count": 40
        }
      ]
    },
    {
      "cell_type": "code",
      "source": [
        "lst[:6]"
      ],
      "metadata": {
        "colab": {
          "base_uri": "https://localhost:8080/"
        },
        "id": "T3qsVKCrnnRN",
        "outputId": "4460e5fe-5475-4c38-d24a-a9462e7a5d73"
      },
      "execution_count": 41,
      "outputs": [
        {
          "output_type": "execute_result",
          "data": {
            "text/plain": [
              "['Mathematics', 'chemistry', 'Physics', '100', '200', '400']"
            ]
          },
          "metadata": {},
          "execution_count": 41
        }
      ]
    },
    {
      "cell_type": "code",
      "source": [
        "lst[4:7]"
      ],
      "metadata": {
        "colab": {
          "base_uri": "https://localhost:8080/"
        },
        "id": "59qWeuLGnuDQ",
        "outputId": "c144c189-03d8-4220-bf04-24df05425e95"
      },
      "execution_count": 43,
      "outputs": [
        {
          "output_type": "execute_result",
          "data": {
            "text/plain": [
              "['200', '400', 'Sagar Pandya']"
            ]
          },
          "metadata": {},
          "execution_count": 43
        }
      ]
    },
    {
      "cell_type": "code",
      "source": [
        "lst[2:5]"
      ],
      "metadata": {
        "colab": {
          "base_uri": "https://localhost:8080/"
        },
        "id": "QKT5FzYynr7R",
        "outputId": "e1f61af3-361b-428a-ca39-febdf7c0b558"
      },
      "execution_count": 42,
      "outputs": [
        {
          "output_type": "execute_result",
          "data": {
            "text/plain": [
              "['Physics', '100', '200']"
            ]
          },
          "metadata": {},
          "execution_count": 42
        }
      ]
    },
    {
      "cell_type": "code",
      "source": [
        "lst.append([\"Ravi\",\"100\"])  ###It's create the nested list "
      ],
      "metadata": {
        "id": "8F3VRWsEoCcB"
      },
      "execution_count": 46,
      "outputs": []
    },
    {
      "cell_type": "code",
      "source": [
        "lst"
      ],
      "metadata": {
        "colab": {
          "base_uri": "https://localhost:8080/"
        },
        "id": "VGecnDrooJXR",
        "outputId": "86a3853d-e4a3-45f1-bb55-4dae635dced5"
      },
      "execution_count": 45,
      "outputs": [
        {
          "output_type": "execute_result",
          "data": {
            "text/plain": [
              "['Mathematics',\n",
              " 'chemistry',\n",
              " 'Physics',\n",
              " '100',\n",
              " '200',\n",
              " '400',\n",
              " 'Sagar Pandya',\n",
              " 'Ravi',\n",
              " ['Ravi', '100']]"
            ]
          },
          "metadata": {},
          "execution_count": 45
        }
      ]
    },
    {
      "cell_type": "markdown",
      "source": [
        "##Insert"
      ],
      "metadata": {
        "id": "A4-4EC1LnWMv"
      }
    },
    {
      "cell_type": "code",
      "source": [
        "##insert in a specific order . want to add data in the specific index "
      ],
      "metadata": {
        "id": "m4T2FQmQnV3H"
      },
      "execution_count": 47,
      "outputs": []
    },
    {
      "cell_type": "code",
      "source": [
        "lst.insert(1,\"Pandya\")"
      ],
      "metadata": {
        "id": "KR2fNeuSnUQm"
      },
      "execution_count": 48,
      "outputs": []
    },
    {
      "cell_type": "code",
      "source": [
        "lst"
      ],
      "metadata": {
        "colab": {
          "base_uri": "https://localhost:8080/"
        },
        "id": "w8NzQzuYoa3L",
        "outputId": "8c036ef5-c2ca-4f17-d23c-502ab5bde60e"
      },
      "execution_count": 49,
      "outputs": [
        {
          "output_type": "execute_result",
          "data": {
            "text/plain": [
              "['Mathematics',\n",
              " 'Pandya',\n",
              " 'chemistry',\n",
              " 'Physics',\n",
              " '100',\n",
              " '200',\n",
              " '400',\n",
              " 'Sagar Pandya',\n",
              " 'Ravi',\n",
              " ['Ravi', '100'],\n",
              " ['Ravi', '100']]"
            ]
          },
          "metadata": {},
          "execution_count": 49
        }
      ]
    },
    {
      "cell_type": "code",
      "source": [
        "lst.insert(3,'Hello')"
      ],
      "metadata": {
        "id": "7Uuqgd_YobS-"
      },
      "execution_count": 50,
      "outputs": []
    },
    {
      "cell_type": "code",
      "source": [
        "lst"
      ],
      "metadata": {
        "colab": {
          "base_uri": "https://localhost:8080/"
        },
        "id": "Wvbu4wrrogSS",
        "outputId": "a2ffd17e-3397-428c-a5ad-950fcd415cd8"
      },
      "execution_count": 51,
      "outputs": [
        {
          "output_type": "execute_result",
          "data": {
            "text/plain": [
              "['Mathematics',\n",
              " 'Pandya',\n",
              " 'chemistry',\n",
              " 'Hello',\n",
              " 'Physics',\n",
              " '100',\n",
              " '200',\n",
              " '400',\n",
              " 'Sagar Pandya',\n",
              " 'Ravi',\n",
              " ['Ravi', '100'],\n",
              " ['Ravi', '100']]"
            ]
          },
          "metadata": {},
          "execution_count": 51
        }
      ]
    },
    {
      "cell_type": "code",
      "source": [
        "lst=[1,2,3]"
      ],
      "metadata": {
        "id": "ZOBT7iZfogyT"
      },
      "execution_count": 52,
      "outputs": []
    },
    {
      "cell_type": "code",
      "source": [
        "lst.append([4,5])"
      ],
      "metadata": {
        "id": "Q23FgURQooaC"
      },
      "execution_count": 53,
      "outputs": []
    },
    {
      "cell_type": "code",
      "source": [
        "lst"
      ],
      "metadata": {
        "colab": {
          "base_uri": "https://localhost:8080/"
        },
        "id": "kuzQr0iforE2",
        "outputId": "c3493a52-c0c4-4c99-bd6b-633dfa12e421"
      },
      "execution_count": 54,
      "outputs": [
        {
          "output_type": "execute_result",
          "data": {
            "text/plain": [
              "[1, 2, 3, [4, 5]]"
            ]
          },
          "metadata": {},
          "execution_count": 54
        }
      ]
    },
    {
      "cell_type": "markdown",
      "source": [
        "##Extend Method"
      ],
      "metadata": {
        "id": "bVaSI99Cou0h"
      }
    },
    {
      "cell_type": "code",
      "source": [
        "##if we use the extend method . it's not create the nested loop in the list . list can be added separately .\n",
        "lst=[1,2,3,4,5,6]"
      ],
      "metadata": {
        "id": "R06ML_1UorxG"
      },
      "execution_count": 55,
      "outputs": []
    },
    {
      "cell_type": "code",
      "source": [
        "lst.extend([8,9])"
      ],
      "metadata": {
        "id": "n7r_rWX5o1dX"
      },
      "execution_count": 57,
      "outputs": []
    },
    {
      "cell_type": "code",
      "source": [
        "lst"
      ],
      "metadata": {
        "colab": {
          "base_uri": "https://localhost:8080/"
        },
        "id": "Bg8EGMeIo3iW",
        "outputId": "a9649de4-9632-4c87-f717-de65c98eda30"
      },
      "execution_count": 58,
      "outputs": [
        {
          "output_type": "execute_result",
          "data": {
            "text/plain": [
              "[1, 2, 3, 4, 5, 6, 8, 9]"
            ]
          },
          "metadata": {},
          "execution_count": 58
        }
      ]
    },
    {
      "cell_type": "markdown",
      "source": [
        "##Various Operations that we can perform in list"
      ],
      "metadata": {
        "id": "YvzouplUpOjv"
      }
    },
    {
      "cell_type": "code",
      "source": [
        "lst=[1,2,3,4,5,6]"
      ],
      "metadata": {
        "id": "Kxwfwmjlo97G"
      },
      "execution_count": 59,
      "outputs": []
    },
    {
      "cell_type": "code",
      "source": [
        "sum(lst)  ##it gives calculation of the whole list "
      ],
      "metadata": {
        "colab": {
          "base_uri": "https://localhost:8080/"
        },
        "id": "o33YnkEHpU6L",
        "outputId": "3044b5d2-c781-44d9-ed04-c7b59b7d1ed1"
      },
      "execution_count": 60,
      "outputs": [
        {
          "output_type": "execute_result",
          "data": {
            "text/plain": [
              "21"
            ]
          },
          "metadata": {},
          "execution_count": 60
        }
      ]
    },
    {
      "cell_type": "code",
      "source": [
        "lst*2"
      ],
      "metadata": {
        "colab": {
          "base_uri": "https://localhost:8080/"
        },
        "id": "cya3W2xJrZ9F",
        "outputId": "f8902211-0cc6-4fcb-9ed7-e2cf4b1386cc"
      },
      "execution_count": 80,
      "outputs": [
        {
          "output_type": "execute_result",
          "data": {
            "text/plain": [
              "[1, 2, 2, 3, 4, 5, 6, 7, 1, 2, 2, 3, 4, 5, 6, 7]"
            ]
          },
          "metadata": {},
          "execution_count": 80
        }
      ]
    },
    {
      "cell_type": "markdown",
      "source": [
        "##POP() Method"
      ],
      "metadata": {
        "id": "5bHEfwFXpeH-"
      }
    },
    {
      "cell_type": "code",
      "source": [
        "lst.pop()  ### It's delete the last element "
      ],
      "metadata": {
        "colab": {
          "base_uri": "https://localhost:8080/"
        },
        "id": "VGQf7Cy2pWKr",
        "outputId": "b865b9d3-6356-4ac5-c4ee-17164e7e0853"
      },
      "execution_count": 61,
      "outputs": [
        {
          "output_type": "execute_result",
          "data": {
            "text/plain": [
              "6"
            ]
          },
          "metadata": {},
          "execution_count": 61
        }
      ]
    },
    {
      "cell_type": "code",
      "source": [
        "lst"
      ],
      "metadata": {
        "colab": {
          "base_uri": "https://localhost:8080/"
        },
        "id": "hPM6cjpipkcO",
        "outputId": "71c3f8cd-38a6-49c1-ea1d-4afd57016852"
      },
      "execution_count": 62,
      "outputs": [
        {
          "output_type": "execute_result",
          "data": {
            "text/plain": [
              "[1, 2, 3, 4, 5]"
            ]
          },
          "metadata": {},
          "execution_count": 62
        }
      ]
    },
    {
      "cell_type": "code",
      "source": [
        "lst.pop(0) ###that delete the 0 the position item. "
      ],
      "metadata": {
        "colab": {
          "base_uri": "https://localhost:8080/"
        },
        "id": "W4exe0fepl4K",
        "outputId": "bf55b3cd-eb0b-4f3a-a1f4-e68107d0ee63"
      },
      "execution_count": 63,
      "outputs": [
        {
          "output_type": "execute_result",
          "data": {
            "text/plain": [
              "1"
            ]
          },
          "metadata": {},
          "execution_count": 63
        }
      ]
    },
    {
      "cell_type": "code",
      "source": [
        "lst"
      ],
      "metadata": {
        "colab": {
          "base_uri": "https://localhost:8080/"
        },
        "id": "0hy2Jwj9p3eX",
        "outputId": "b6c1d308-2bd2-43fd-e095-9d269f9c7306"
      },
      "execution_count": 64,
      "outputs": [
        {
          "output_type": "execute_result",
          "data": {
            "text/plain": [
              "[2, 3, 4, 5]"
            ]
          },
          "metadata": {},
          "execution_count": 64
        }
      ]
    },
    {
      "cell_type": "markdown",
      "source": [
        "count() :- Calculates total occurrence of given element of list "
      ],
      "metadata": {
        "id": "LbfQcojOp6Ah"
      }
    },
    {
      "cell_type": "code",
      "source": [
        "lst=[1,2,3,4,5]\n",
        "lst.count(1)"
      ],
      "metadata": {
        "colab": {
          "base_uri": "https://localhost:8080/"
        },
        "id": "dZKgvPBHp3Sb",
        "outputId": "62aed768-b9f1-494b-a23b-1f8a8900fe7d"
      },
      "execution_count": 65,
      "outputs": [
        {
          "output_type": "execute_result",
          "data": {
            "text/plain": [
              "1"
            ]
          },
          "metadata": {},
          "execution_count": 65
        }
      ]
    },
    {
      "cell_type": "code",
      "source": [
        "lst1=[1,2,2,3,4,5,6,7]"
      ],
      "metadata": {
        "id": "95rZrIv5p1di"
      },
      "execution_count": 68,
      "outputs": []
    },
    {
      "cell_type": "code",
      "source": [
        "lst1.count(2)  # it gives total number of occuranccess"
      ],
      "metadata": {
        "colab": {
          "base_uri": "https://localhost:8080/"
        },
        "id": "caYq8lXUps6K",
        "outputId": "25716f71-77a3-4147-a7da-f82cff0d1fcf"
      },
      "execution_count": 71,
      "outputs": [
        {
          "output_type": "execute_result",
          "data": {
            "text/plain": [
              "2"
            ]
          },
          "metadata": {},
          "execution_count": 71
        }
      ]
    },
    {
      "cell_type": "code",
      "source": [
        "#Length :- calculate total length of list\n",
        "len(lst)"
      ],
      "metadata": {
        "colab": {
          "base_uri": "https://localhost:8080/"
        },
        "id": "3_aig5rKqToi",
        "outputId": "57dbb14b-1dea-4d2c-bc9a-c04617e8fb0e"
      },
      "execution_count": 72,
      "outputs": [
        {
          "output_type": "execute_result",
          "data": {
            "text/plain": [
              "8"
            ]
          },
          "metadata": {},
          "execution_count": 72
        }
      ]
    },
    {
      "cell_type": "code",
      "source": [
        "# index():- returns the index of first occurrence. start and end index are not necessary parameters \n",
        "lst.index(1,0,4)"
      ],
      "metadata": {
        "colab": {
          "base_uri": "https://localhost:8080/"
        },
        "id": "P5nQPJJHqnZK",
        "outputId": "82d35a81-3b4a-4fa6-9ce9-379c24849667"
      },
      "execution_count": 74,
      "outputs": [
        {
          "output_type": "execute_result",
          "data": {
            "text/plain": [
              "0"
            ]
          },
          "metadata": {},
          "execution_count": 74
        }
      ]
    },
    {
      "cell_type": "code",
      "source": [
        "##Min and Max\n",
        "min(lst)"
      ],
      "metadata": {
        "colab": {
          "base_uri": "https://localhost:8080/"
        },
        "id": "i7aE2O2IqzsK",
        "outputId": "d777007b-caeb-4e45-efa7-45b3db63b8af"
      },
      "execution_count": 75,
      "outputs": [
        {
          "output_type": "execute_result",
          "data": {
            "text/plain": [
              "1"
            ]
          },
          "metadata": {},
          "execution_count": 75
        }
      ]
    },
    {
      "cell_type": "code",
      "source": [
        "max(lst)"
      ],
      "metadata": {
        "colab": {
          "base_uri": "https://localhost:8080/"
        },
        "id": "skvfRQueq9Ci",
        "outputId": "ba260978-b59d-4c0b-ea52-7ed3b8c6fe24"
      },
      "execution_count": 76,
      "outputs": [
        {
          "output_type": "execute_result",
          "data": {
            "text/plain": [
              "7"
            ]
          },
          "metadata": {},
          "execution_count": 76
        }
      ]
    },
    {
      "cell_type": "markdown",
      "source": [
        "#SETS \n"
      ],
      "metadata": {
        "id": "jr0rv-4wtq7w"
      }
    },
    {
      "cell_type": "markdown",
      "source": [
        "A Set is an unordered collection data type that is iterable, mutable, and has no duplicate elements. Python's set class represents the mathematical notion of a set.This is based on a data structure known as a hash table"
      ],
      "metadata": {
        "id": "HsFCGn_AttyA"
      }
    },
    {
      "cell_type": "code",
      "source": [
        "##Defining an empty set \n",
        "\n",
        "set_var= set()\n",
        "print(set_var)\n",
        "print(type(set_var))"
      ],
      "metadata": {
        "colab": {
          "base_uri": "https://localhost:8080/"
        },
        "id": "33f4hPtytqip",
        "outputId": "151f396b-73bd-482a-8b13-3b859250410b"
      },
      "execution_count": 81,
      "outputs": [
        {
          "output_type": "stream",
          "name": "stdout",
          "text": [
            "set()\n",
            "<class 'set'>\n"
          ]
        }
      ]
    },
    {
      "cell_type": "code",
      "source": [
        "set_var={1,2,3,4,3}"
      ],
      "metadata": {
        "id": "GqDfk-ybrXB3"
      },
      "execution_count": 86,
      "outputs": []
    },
    {
      "cell_type": "code",
      "source": [
        "set_var ##It's not contain duplicate element "
      ],
      "metadata": {
        "colab": {
          "base_uri": "https://localhost:8080/"
        },
        "id": "6hcHw4wwuOpO",
        "outputId": "3a3e7ea1-51fe-4d88-ac65-3cdf281c33e6"
      },
      "execution_count": 88,
      "outputs": [
        {
          "output_type": "execute_result",
          "data": {
            "text/plain": [
              "{1, 2, 3, 4}"
            ]
          },
          "metadata": {},
          "execution_count": 88
        }
      ]
    },
    {
      "cell_type": "code",
      "source": [
        "set_var={\"Avengers\",\"IronMan\",\"Hitman\"}\n",
        "print(set_var)\n",
        "type(set_var)"
      ],
      "metadata": {
        "colab": {
          "base_uri": "https://localhost:8080/"
        },
        "id": "Lyf86is5uRLm",
        "outputId": "9f77812b-c5fb-478b-cb46-b0084840b757"
      },
      "execution_count": 89,
      "outputs": [
        {
          "output_type": "stream",
          "name": "stdout",
          "text": [
            "{'Hitman', 'Avengers', 'IronMan'}\n"
          ]
        },
        {
          "output_type": "execute_result",
          "data": {
            "text/plain": [
              "set"
            ]
          },
          "metadata": {},
          "execution_count": 89
        }
      ]
    },
    {
      "cell_type": "code",
      "source": [
        "##Inbuilt function in sets \n",
        "\n",
        "set_var.add(\"Hulk\")"
      ],
      "metadata": {
        "id": "xwVgCqgaur7j"
      },
      "execution_count": 91,
      "outputs": []
    },
    {
      "cell_type": "code",
      "source": [
        "print(set_var)"
      ],
      "metadata": {
        "colab": {
          "base_uri": "https://localhost:8080/"
        },
        "id": "w5ja1NnPuxyn",
        "outputId": "22ab0d8b-c788-4cdf-88b8-927520e28e9b"
      },
      "execution_count": 92,
      "outputs": [
        {
          "output_type": "stream",
          "name": "stdout",
          "text": [
            "{'Hitman', 'Hulk', 'Avengers', 'IronMan'}\n"
          ]
        }
      ]
    },
    {
      "cell_type": "code",
      "source": [
        "set1={\"Avengers\",\"IronMan\",'Hitman'}\n",
        "set2={\"Avengers\",\"IronMan\",'Hitman','Hulk2'}"
      ],
      "metadata": {
        "id": "0r7as-M8u81P"
      },
      "execution_count": 93,
      "outputs": []
    },
    {
      "cell_type": "code",
      "source": [
        "set2.intersection_update(set1)"
      ],
      "metadata": {
        "id": "-DpZIszsvl_X"
      },
      "execution_count": 103,
      "outputs": []
    },
    {
      "cell_type": "code",
      "source": [
        "set2"
      ],
      "metadata": {
        "colab": {
          "base_uri": "https://localhost:8080/"
        },
        "id": "bfQ4_G2HvrXx",
        "outputId": "7e30798d-7d40-441c-a952-c345b7dbd5d0"
      },
      "execution_count": 104,
      "outputs": [
        {
          "output_type": "execute_result",
          "data": {
            "text/plain": [
              "set()"
            ]
          },
          "metadata": {},
          "execution_count": 104
        }
      ]
    },
    {
      "cell_type": "code",
      "source": [
        "##Difference \n",
        "set2.difference(set1)"
      ],
      "metadata": {
        "colab": {
          "base_uri": "https://localhost:8080/"
        },
        "id": "0lIAnn_dvPtm",
        "outputId": "06eed6d6-a398-4414-a7ea-2de011af1a7d"
      },
      "execution_count": 94,
      "outputs": [
        {
          "output_type": "execute_result",
          "data": {
            "text/plain": [
              "{'Hulk2'}"
            ]
          },
          "metadata": {},
          "execution_count": 94
        }
      ]
    },
    {
      "cell_type": "code",
      "source": [
        "#Difference Update \n",
        "set2.difference_update(set1)"
      ],
      "metadata": {
        "id": "-KGsc5vVvWZ-"
      },
      "execution_count": 95,
      "outputs": []
    },
    {
      "cell_type": "code",
      "source": [
        "print(set2)"
      ],
      "metadata": {
        "colab": {
          "base_uri": "https://localhost:8080/"
        },
        "id": "xIFGCMK2vhXy",
        "outputId": "ca2c4a9c-f74d-49be-d5f6-3ee5e88c8141"
      },
      "execution_count": 96,
      "outputs": [
        {
          "output_type": "stream",
          "name": "stdout",
          "text": [
            "{'Hulk2'}\n"
          ]
        }
      ]
    },
    {
      "cell_type": "markdown",
      "source": [
        "##Dictionaries "
      ],
      "metadata": {
        "id": "qbDvEmoLv-br"
      }
    },
    {
      "cell_type": "markdown",
      "source": [
        "A dictionary is a collection which is unordered, changeable and indexed. In Python dictionaries are written with curly brackets, and they have keys and values."
      ],
      "metadata": {
        "id": "Q1F2ypjBwD1z"
      }
    },
    {
      "cell_type": "code",
      "source": [
        "dic={}"
      ],
      "metadata": {
        "id": "MnobL65zvi2y"
      },
      "execution_count": 105,
      "outputs": []
    },
    {
      "cell_type": "code",
      "source": [
        "type(dic)"
      ],
      "metadata": {
        "colab": {
          "base_uri": "https://localhost:8080/"
        },
        "id": "PksN7IylwHoa",
        "outputId": "c26451c4-af0f-4103-f64d-22716f712c01"
      },
      "execution_count": 106,
      "outputs": [
        {
          "output_type": "execute_result",
          "data": {
            "text/plain": [
              "dict"
            ]
          },
          "metadata": {},
          "execution_count": 106
        }
      ]
    },
    {
      "cell_type": "code",
      "source": [
        "dic={1,2,3,4,5}"
      ],
      "metadata": {
        "id": "hSV3zHNdwJ4G"
      },
      "execution_count": 107,
      "outputs": []
    },
    {
      "cell_type": "code",
      "source": [
        "type(dic)"
      ],
      "metadata": {
        "colab": {
          "base_uri": "https://localhost:8080/"
        },
        "id": "IY1eur0OwMZr",
        "outputId": "e8179b08-e2e2-48ab-cfd5-430f076a4c72"
      },
      "execution_count": 108,
      "outputs": [
        {
          "output_type": "execute_result",
          "data": {
            "text/plain": [
              "set"
            ]
          },
          "metadata": {},
          "execution_count": 108
        }
      ]
    },
    {
      "cell_type": "code",
      "source": [
        "##let create a dictionary"
      ],
      "metadata": {
        "id": "6mcvEx_NwN7e"
      },
      "execution_count": 109,
      "outputs": []
    },
    {
      "cell_type": "code",
      "source": [
        "my_dict={\"car1\":\"Audi\", \"car2\":\"BMW\",\"Car3\":\"Benz\"}"
      ],
      "metadata": {
        "id": "8lyoVTDuwQkk"
      },
      "execution_count": 110,
      "outputs": []
    },
    {
      "cell_type": "code",
      "source": [
        "type(my_dict)"
      ],
      "metadata": {
        "colab": {
          "base_uri": "https://localhost:8080/"
        },
        "id": "VQUnq88dwfvO",
        "outputId": "e047cbf1-e6ba-43d9-d683-4acd7d679ada"
      },
      "execution_count": 111,
      "outputs": [
        {
          "output_type": "execute_result",
          "data": {
            "text/plain": [
              "dict"
            ]
          },
          "metadata": {},
          "execution_count": 111
        }
      ]
    },
    {
      "cell_type": "code",
      "source": [
        "##Access the item values based on keys\n",
        "my_dict['car1']"
      ],
      "metadata": {
        "colab": {
          "base_uri": "https://localhost:8080/",
          "height": 35
        },
        "id": "c1Q2fKJwwiBv",
        "outputId": "82f9e778-4f5f-466f-eea3-fce22be38012"
      },
      "execution_count": 112,
      "outputs": [
        {
          "output_type": "execute_result",
          "data": {
            "text/plain": [
              "'Audi'"
            ],
            "application/vnd.google.colaboratory.intrinsic+json": {
              "type": "string"
            }
          },
          "metadata": {},
          "execution_count": 112
        }
      ]
    },
    {
      "cell_type": "code",
      "source": [
        "my_dict['car2']"
      ],
      "metadata": {
        "colab": {
          "base_uri": "https://localhost:8080/",
          "height": 35
        },
        "id": "5Tu8-SyQwqmy",
        "outputId": "b6ea31f0-784d-453c-b8b9-1786c37014fc"
      },
      "execution_count": 113,
      "outputs": [
        {
          "output_type": "execute_result",
          "data": {
            "text/plain": [
              "'BMW'"
            ],
            "application/vnd.google.colaboratory.intrinsic+json": {
              "type": "string"
            }
          },
          "metadata": {},
          "execution_count": 113
        }
      ]
    },
    {
      "cell_type": "code",
      "source": [
        "#we can even loop throught the dictionaries keys \n",
        "\n",
        "for x in my_dict.values():\n",
        "  print(x)"
      ],
      "metadata": {
        "colab": {
          "base_uri": "https://localhost:8080/"
        },
        "id": "YJkzQOQfwtDA",
        "outputId": "b3a887a1-b59e-4ebb-9c86-f0265900fb3f"
      },
      "execution_count": 115,
      "outputs": [
        {
          "output_type": "stream",
          "name": "stdout",
          "text": [
            "Audi\n",
            "BMW\n",
            "Benz\n"
          ]
        }
      ]
    },
    {
      "cell_type": "code",
      "source": [
        "##we can also check both keys and values\n",
        "for x in my_dict.items():\n",
        "  print(x)"
      ],
      "metadata": {
        "colab": {
          "base_uri": "https://localhost:8080/"
        },
        "id": "IsR2i8DGwyku",
        "outputId": "be88a836-7a92-43fd-a460-e8d1afd8c98f"
      },
      "execution_count": 116,
      "outputs": [
        {
          "output_type": "stream",
          "name": "stdout",
          "text": [
            "('car1', 'Audi')\n",
            "('car2', 'BMW')\n",
            "('Car3', 'Benz')\n"
          ]
        }
      ]
    },
    {
      "cell_type": "code",
      "source": [
        "##Adding items in dictionaries \n",
        "my_dict['car4']='Tesla'"
      ],
      "metadata": {
        "id": "WJdpyTagxNIf"
      },
      "execution_count": 118,
      "outputs": []
    },
    {
      "cell_type": "code",
      "source": [
        "my_dict"
      ],
      "metadata": {
        "colab": {
          "base_uri": "https://localhost:8080/"
        },
        "id": "DJzNDyIrxRnn",
        "outputId": "266b2054-7e7a-40b4-d619-419bdecfdcb3"
      },
      "execution_count": 119,
      "outputs": [
        {
          "output_type": "execute_result",
          "data": {
            "text/plain": [
              "{'Car3': 'Benz', 'car1': 'Audi', 'car2': 'BMW', 'car4': 'Tesla'}"
            ]
          },
          "metadata": {},
          "execution_count": 119
        }
      ]
    },
    {
      "cell_type": "code",
      "source": [
        "my_dict['car1']='Porsche'"
      ],
      "metadata": {
        "id": "bCF92cRuxceu"
      },
      "execution_count": 120,
      "outputs": []
    },
    {
      "cell_type": "code",
      "source": [
        "my_dict  #we can see that value can replace it here with car1 . "
      ],
      "metadata": {
        "colab": {
          "base_uri": "https://localhost:8080/"
        },
        "id": "GkBN6O2mxpHg",
        "outputId": "42a7baa0-4518-48a2-e521-dceaf87ac72b"
      },
      "execution_count": 122,
      "outputs": [
        {
          "output_type": "execute_result",
          "data": {
            "text/plain": [
              "{'Car3': 'Benz', 'car1': 'Porsche', 'car2': 'BMW', 'car4': 'Tesla'}"
            ]
          },
          "metadata": {},
          "execution_count": 122
        }
      ]
    },
    {
      "cell_type": "markdown",
      "source": [
        "##Nested Dictionary "
      ],
      "metadata": {
        "id": "Df6K_d9_yJpg"
      }
    },
    {
      "cell_type": "code",
      "source": [
        "car1_model={'Tesla':2022}\n",
        "car2_model={'BMW':2021}\n",
        "car3_model={'Audi':2020}\n",
        "car_type={'car1':car1_model,'car2':car2_model,'car3':car3_model}"
      ],
      "metadata": {
        "id": "7ppf6E90yGkx"
      },
      "execution_count": 124,
      "outputs": []
    },
    {
      "cell_type": "code",
      "source": [
        "print(car_type)"
      ],
      "metadata": {
        "colab": {
          "base_uri": "https://localhost:8080/"
        },
        "id": "BDgQ2pvQxqge",
        "outputId": "c357e9db-fa7c-467d-b503-8917bfef1cf3"
      },
      "execution_count": 125,
      "outputs": [
        {
          "output_type": "stream",
          "name": "stdout",
          "text": [
            "{'car1': {'Tesla': 2022}, 'car2': {'BMW': 2021}, 'car3': {'Audi': 2020}}\n"
          ]
        }
      ]
    },
    {
      "cell_type": "code",
      "source": [
        "##Accessing the items in the dictionary \n",
        "\n",
        "print(car_type['car1'])"
      ],
      "metadata": {
        "colab": {
          "base_uri": "https://localhost:8080/"
        },
        "id": "BeE92AHdyoUz",
        "outputId": "352bfd3a-eb9c-48aa-aaed-45da2aa5281f"
      },
      "execution_count": 127,
      "outputs": [
        {
          "output_type": "stream",
          "name": "stdout",
          "text": [
            "{'Tesla': 2022}\n"
          ]
        }
      ]
    },
    {
      "cell_type": "code",
      "source": [
        "print(car_type['car1']['Tesla'])"
      ],
      "metadata": {
        "colab": {
          "base_uri": "https://localhost:8080/"
        },
        "id": "MO8B9UBHyuxm",
        "outputId": "5387b00a-d43a-47f6-ef59-cfbd0916b51f"
      },
      "execution_count": 129,
      "outputs": [
        {
          "output_type": "stream",
          "name": "stdout",
          "text": [
            "2022\n"
          ]
        }
      ]
    },
    {
      "cell_type": "markdown",
      "source": [
        "##Tuples"
      ],
      "metadata": {
        "id": "tTUCJbN4zE8o"
      }
    },
    {
      "cell_type": "code",
      "source": [
        "##Create an empty Tuples "
      ],
      "metadata": {
        "id": "PTcKyNP6y6He"
      },
      "execution_count": 130,
      "outputs": []
    },
    {
      "cell_type": "code",
      "source": [
        "my_tuple=()"
      ],
      "metadata": {
        "id": "M_ilC-U9zJLv"
      },
      "execution_count": 131,
      "outputs": []
    },
    {
      "cell_type": "code",
      "source": [
        "type(my_tuple)"
      ],
      "metadata": {
        "colab": {
          "base_uri": "https://localhost:8080/"
        },
        "id": "3zCVnIgrzOKb",
        "outputId": "a49c9908-9197-4c37-a978-256face928f0"
      },
      "execution_count": 132,
      "outputs": [
        {
          "output_type": "execute_result",
          "data": {
            "text/plain": [
              "tuple"
            ]
          },
          "metadata": {},
          "execution_count": 132
        }
      ]
    },
    {
      "cell_type": "code",
      "source": [
        "my_tuple=(\"Sagar\",\"Pandya\",\"Sahil\")"
      ],
      "metadata": {
        "id": "127CIIL4zQpO"
      },
      "execution_count": 133,
      "outputs": []
    },
    {
      "cell_type": "code",
      "source": [
        "my_tuple=('hello','world')  #### can't change the single items. need tto change the whole tuples "
      ],
      "metadata": {
        "id": "8iS48_cuzXdP"
      },
      "execution_count": 134,
      "outputs": []
    },
    {
      "cell_type": "code",
      "source": [
        "print(type(my_tuple))"
      ],
      "metadata": {
        "colab": {
          "base_uri": "https://localhost:8080/"
        },
        "id": "1_rGTd-szdRD",
        "outputId": "54d84474-b8e8-4e48-e754-95bef6f84864"
      },
      "execution_count": 135,
      "outputs": [
        {
          "output_type": "stream",
          "name": "stdout",
          "text": [
            "<class 'tuple'>\n"
          ]
        }
      ]
    },
    {
      "cell_type": "code",
      "source": [
        "print(my_tuple)"
      ],
      "metadata": {
        "colab": {
          "base_uri": "https://localhost:8080/"
        },
        "id": "FoiVhHqJzf_y",
        "outputId": "a86f7975-162c-4b97-b59a-4c2b91902906"
      },
      "execution_count": 136,
      "outputs": [
        {
          "output_type": "stream",
          "name": "stdout",
          "text": [
            "('hello', 'world')\n"
          ]
        }
      ]
    },
    {
      "cell_type": "code",
      "source": [
        "## Inbuilt Function \n",
        "my_tuple.count('world')\n"
      ],
      "metadata": {
        "colab": {
          "base_uri": "https://localhost:8080/"
        },
        "id": "iW9rKCOGziWi",
        "outputId": "9848ffa0-f5cb-440d-bc60-41b173a23285"
      },
      "execution_count": 143,
      "outputs": [
        {
          "output_type": "execute_result",
          "data": {
            "text/plain": [
              "1"
            ]
          },
          "metadata": {},
          "execution_count": 143
        }
      ]
    },
    {
      "cell_type": "code",
      "source": [
        "my_tuple.index('world')"
      ],
      "metadata": {
        "colab": {
          "base_uri": "https://localhost:8080/"
        },
        "id": "sImOgB99z1PK",
        "outputId": "e711d9a1-ca5b-4a28-80b1-19394edea52d"
      },
      "execution_count": 149,
      "outputs": [
        {
          "output_type": "execute_result",
          "data": {
            "text/plain": [
              "1"
            ]
          },
          "metadata": {},
          "execution_count": 149
        }
      ]
    }
  ]
}