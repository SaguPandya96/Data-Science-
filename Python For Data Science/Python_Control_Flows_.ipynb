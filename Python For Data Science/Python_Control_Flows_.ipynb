{
  "nbformat": 4,
  "nbformat_minor": 0,
  "metadata": {
    "colab": {
      "name": "Python Control Flows .ipynb",
      "provenance": []
    },
    "kernelspec": {
      "name": "python3",
      "display_name": "Python 3"
    },
    "language_info": {
      "name": "python"
    }
  },
  "cells": [
    {
      "cell_type": "markdown",
      "source": [
        "#If statement\n",
        "\n"
      ],
      "metadata": {
        "id": "G2OgDsJoK1Vg"
      }
    },
    {
      "cell_type": "code",
      "source": [
        "val=input(\"Enter the number\")\n",
        "value_float=float(val)\n",
        "print(value_float>100)"
      ],
      "metadata": {
        "colab": {
          "base_uri": "https://localhost:8080/"
        },
        "id": "C5T7kSmFK6Gk",
        "outputId": "47bbdd35-b076-43eb-bc31-3e7a58167f22"
      },
      "execution_count": null,
      "outputs": [
        {
          "output_type": "stream",
          "name": "stdout",
          "text": [
            "Enter the number50\n",
            "False\n"
          ]
        }
      ]
    },
    {
      "cell_type": "code",
      "source": [
        "val=input(\"Enter the number\")\n",
        "value_float=float(val)\n",
        "print(value_float>100)\n"
      ],
      "metadata": {
        "colab": {
          "base_uri": "https://localhost:8080/"
        },
        "id": "eOStaBCULFJJ",
        "outputId": "51c89c75-4138-4355-891e-32d612bae43d"
      },
      "execution_count": null,
      "outputs": [
        {
          "output_type": "stream",
          "name": "stdout",
          "text": [
            "Enter the number120\n",
            "True\n"
          ]
        }
      ]
    },
    {
      "cell_type": "code",
      "source": [
        "val=input(\"enter the number\")\n",
        "value_float=float(val)\n",
        "if(value_float):\n",
        "  print(\"the number is greater than 100\")"
      ],
      "metadata": {
        "colab": {
          "base_uri": "https://localhost:8080/"
        },
        "id": "q5Xf23PhLTqt",
        "outputId": "5ea57973-e929-44c1-b888-39fb9f3a8517"
      },
      "execution_count": null,
      "outputs": [
        {
          "output_type": "stream",
          "name": "stdout",
          "text": [
            "enter the number124\n",
            "the number is greater than 100\n"
          ]
        }
      ]
    },
    {
      "cell_type": "code",
      "source": [
        "val=input(\"enter the number\")\n",
        "value_float=float(val)\n",
        "if(value_float%2==00):\n",
        "  print(\"the number is even\")"
      ],
      "metadata": {
        "colab": {
          "base_uri": "https://localhost:8080/"
        },
        "id": "oBbFm11DLv7m",
        "outputId": "76c13274-205c-42a9-f3a6-443247137f3a"
      },
      "execution_count": null,
      "outputs": [
        {
          "output_type": "stream",
          "name": "stdout",
          "text": [
            "enter the number150\n",
            "the number is even\n"
          ]
        }
      ]
    },
    {
      "cell_type": "markdown",
      "source": [
        "##If else statement\n",
        "\n"
      ],
      "metadata": {
        "id": "khiUXmdlMcKD"
      }
    },
    {
      "cell_type": "code",
      "source": [
        "val=input(\"enter the number\")\n",
        "value_float=float(val)\n",
        "if(value_float%2==00):\n",
        "  print(\"the number is even\")\n",
        "else:\n",
        "  print(\"The number is odd\")"
      ],
      "metadata": {
        "colab": {
          "base_uri": "https://localhost:8080/"
        },
        "id": "YkVoN8bjL6sb",
        "outputId": "c82e2fbb-272f-49f8-ed99-eea303bcd7ae"
      },
      "execution_count": null,
      "outputs": [
        {
          "output_type": "stream",
          "name": "stdout",
          "text": [
            "enter the number13\n",
            "The number is odd\n"
          ]
        }
      ]
    },
    {
      "cell_type": "code",
      "source": [
        "val=input(\"enter the number\")\n",
        "value_float=float(val)\n",
        "if(value_float%2==00):\n",
        "  print(\"the number is even\")\n",
        "else:\n",
        "  print(\"The number is odd\")"
      ],
      "metadata": {
        "colab": {
          "base_uri": "https://localhost:8080/"
        },
        "id": "C3-TQanFMCp1",
        "outputId": "ad70eb5e-f4ee-4bf4-c9d5-368ec73ca1bd"
      },
      "execution_count": null,
      "outputs": [
        {
          "output_type": "stream",
          "name": "stdout",
          "text": [
            "enter the number100\n",
            "the number is even\n"
          ]
        }
      ]
    },
    {
      "cell_type": "code",
      "source": [
        "##Age Form \n",
        "\n",
        "age=float(input(\"Enter the age\"))\n",
        "if (age<18):\n",
        "  print(\"Minor age\")"
      ],
      "metadata": {
        "colab": {
          "base_uri": "https://localhost:8080/"
        },
        "id": "P47TLDerMj7x",
        "outputId": "5afdf416-cae5-454f-8b8a-9dea7379080a"
      },
      "execution_count": null,
      "outputs": [
        {
          "output_type": "stream",
          "name": "stdout",
          "text": [
            "Enter the age15\n",
            "Minor age\n"
          ]
        }
      ]
    },
    {
      "cell_type": "code",
      "source": [
        "age=float(input(\"Enter the age\"))\n",
        "if (age<18):\n",
        "  print(\"Minor age\")\n",
        "else:\n",
        "  print(\"you are not minor\")"
      ],
      "metadata": {
        "colab": {
          "base_uri": "https://localhost:8080/"
        },
        "id": "2KJnyZFxMoel",
        "outputId": "66d0d886-aaec-4bec-d1d8-4b3ea54146f9"
      },
      "execution_count": null,
      "outputs": [
        {
          "output_type": "stream",
          "name": "stdout",
          "text": [
            "Enter the age21\n",
            "you are not minor\n"
          ]
        }
      ]
    },
    {
      "cell_type": "code",
      "source": [
        "##Nested if \n",
        "age=float(input(\"Enter the age\"))\n",
        "if (age<18):\n",
        "  print(\"Minor age\")\n",
        "elif (age>=18 and age<=45):\n",
        "  print(\"Mid Age\")"
      ],
      "metadata": {
        "colab": {
          "base_uri": "https://localhost:8080/"
        },
        "id": "Lsjgwvo4NFwv",
        "outputId": "aa12bda6-78b1-4b2e-98c9-f303f719be9e"
      },
      "execution_count": null,
      "outputs": [
        {
          "output_type": "stream",
          "name": "stdout",
          "text": [
            "Enter the age33\n",
            "Mid Age\n"
          ]
        }
      ]
    },
    {
      "cell_type": "code",
      "source": [
        "age=float(input(\"Enter the age\"))\n",
        "if (age<18):\n",
        "  print(\"Minor age\")\n",
        "elif (age>=18 and age<=45):\n",
        "  print(\"Mid Age\")\n",
        "elif(age>45 and age<=50):\n",
        "  print(\"Senior mid age\")\n",
        "else:\n",
        "  print(\"Senior Citizen\")"
      ],
      "metadata": {
        "colab": {
          "base_uri": "https://localhost:8080/"
        },
        "id": "6yo8h16bNZFF",
        "outputId": "7198a897-30b7-4de2-efa1-8b03356585aa"
      },
      "execution_count": null,
      "outputs": [
        {
          "output_type": "stream",
          "name": "stdout",
          "text": [
            "Enter the age55\n",
            "Senior Citizen\n"
          ]
        }
      ]
    },
    {
      "cell_type": "code",
      "source": [
        "##nested if else\n",
        "age=float(input(\"Enter the age\"))\n",
        "if (age<18):\n",
        "  print(\"Minor age\")\n",
        "  if(age<15):\n",
        "    print(\"You are in School\")\n",
        "  else:\n",
        "      print(\"you are in college\")\n",
        "elif (age>=18 and age<=45):\n",
        "  print(\"Mid Age\")\n",
        "elif(age>45 and age<=50):\n",
        "  print(\"Senior mid age\")\n",
        "else:\n",
        "  print(\"Senior Citizen\")"
      ],
      "metadata": {
        "colab": {
          "base_uri": "https://localhost:8080/"
        },
        "id": "RNdOAM1IN8br",
        "outputId": "bad5420b-d7e4-45c0-de33-ae784c09de63"
      },
      "execution_count": null,
      "outputs": [
        {
          "output_type": "stream",
          "name": "stdout",
          "text": [
            "Enter the age16\n",
            "Minor age\n",
            "you are in college\n"
          ]
        }
      ]
    },
    {
      "cell_type": "code",
      "source": [
        "age=float(input(\"Enter the age\"))\n",
        "if (age<18):\n",
        "  print(\"Minor age\")\n",
        "  if(age<15):\n",
        "    print(\"You are in School\")\n",
        "  else:\n",
        "      print(\"you are in college\")\n",
        "elif (age>=18 and age<=45):\n",
        "  print(\"Mid Age\")\n",
        "elif(age>45 and age<=50):\n",
        "  print(\"Senior mid age\")\n",
        "else:\n",
        "  print(\"Senior Citizen\")"
      ],
      "metadata": {
        "colab": {
          "base_uri": "https://localhost:8080/"
        },
        "id": "D6j-dHQkOM5K",
        "outputId": "93cab5a8-bf31-4e66-bee5-c321d93afb58"
      },
      "execution_count": null,
      "outputs": [
        {
          "output_type": "stream",
          "name": "stdout",
          "text": [
            "Enter the age12\n",
            "Minor age\n",
            "You are in School\n"
          ]
        }
      ]
    },
    {
      "cell_type": "code",
      "source": [
        "##Loops Statement\n",
        "##For Loops,while loops "
      ],
      "metadata": {
        "id": "-_7GccNXOn4B"
      },
      "execution_count": null,
      "outputs": []
    },
    {
      "cell_type": "code",
      "source": [
        "lst=[1,2,3,4,5,6,7]\n",
        "for i in lst:\n",
        "  print(i)"
      ],
      "metadata": {
        "colab": {
          "base_uri": "https://localhost:8080/"
        },
        "id": "ZtEVrS4POyfS",
        "outputId": "a5f71e95-7567-4e40-9bc2-1509741b8515"
      },
      "execution_count": null,
      "outputs": [
        {
          "output_type": "stream",
          "name": "stdout",
          "text": [
            "1\n",
            "2\n",
            "3\n",
            "4\n",
            "5\n",
            "6\n",
            "7\n"
          ]
        }
      ]
    },
    {
      "cell_type": "code",
      "source": [
        "lst =[1,2,3,4,5,6,7]\n",
        "for i in lst:\n",
        "  print(i+1)"
      ],
      "metadata": {
        "colab": {
          "base_uri": "https://localhost:8080/"
        },
        "id": "uH8otSxaPLel",
        "outputId": "9fc846fa-18de-47d7-c42f-4c403c220b06"
      },
      "execution_count": null,
      "outputs": [
        {
          "output_type": "stream",
          "name": "stdout",
          "text": [
            "2\n",
            "3\n",
            "4\n",
            "5\n",
            "6\n",
            "7\n",
            "8\n"
          ]
        }
      ]
    },
    {
      "cell_type": "code",
      "source": [
        "lst =[1,2,3,4,5,6,7]\n",
        "for i in lst:\n",
        "  print(i**2)"
      ],
      "metadata": {
        "colab": {
          "base_uri": "https://localhost:8080/"
        },
        "id": "_WOPftllPPnp",
        "outputId": "4214a7e7-69ab-4942-8703-095e0e08bdee"
      },
      "execution_count": null,
      "outputs": [
        {
          "output_type": "stream",
          "name": "stdout",
          "text": [
            "1\n",
            "4\n",
            "9\n",
            "16\n",
            "25\n",
            "36\n",
            "49\n"
          ]
        }
      ]
    },
    {
      "cell_type": "code",
      "source": [
        "##find the sum of all the elements in the list \n",
        "lst=[1,2,3,4,5,6,7]\n",
        "sum1=0\n",
        "for i in lst:\n",
        "  sum1=sum1+i\n",
        "print(sum1)"
      ],
      "metadata": {
        "colab": {
          "base_uri": "https://localhost:8080/"
        },
        "id": "KigF_dsiQDge",
        "outputId": "b8129bbb-f3cf-4831-94fc-4ec0f88d94ad"
      },
      "execution_count": null,
      "outputs": [
        {
          "output_type": "stream",
          "name": "stdout",
          "text": [
            "28\n"
          ]
        }
      ]
    },
    {
      "cell_type": "code",
      "source": [
        "##Find the Sum of even and odd number \n",
        "lst=[1,2,3,4,5,6,7]\n",
        "even_sum=0\n",
        "odd_sum=0\n",
        "\n",
        "for i in lst:\n",
        "  if(i%2==0):\n",
        "    even_sum=even_sum+i\n",
        "  else:\n",
        "      odd_sum=odd_sum+i\n",
        "print(\"Even sum is {}\".format(even_sum))\n",
        "print(\"odd even is {}\".format(odd_sum))"
      ],
      "metadata": {
        "colab": {
          "base_uri": "https://localhost:8080/"
        },
        "id": "-XCEqIlEQYW-",
        "outputId": "fc070f4e-b219-45a4-d2c5-0837b01cc4e3"
      },
      "execution_count": null,
      "outputs": [
        {
          "output_type": "stream",
          "name": "stdout",
          "text": [
            "Even sum is 12\n",
            "odd even is 16\n"
          ]
        }
      ]
    },
    {
      "cell_type": "code",
      "source": [
        "##While condition \n",
        "\n",
        "i=0\n",
        "while(i<=10):\n",
        "  print(i)\n",
        "  i=i+1\n"
      ],
      "metadata": {
        "colab": {
          "base_uri": "https://localhost:8080/"
        },
        "id": "my1-LWSeRSPC",
        "outputId": "923adb90-84c5-4b6c-8468-fefe317e6cc2"
      },
      "execution_count": null,
      "outputs": [
        {
          "output_type": "stream",
          "name": "stdout",
          "text": [
            "0\n",
            "1\n",
            "2\n",
            "3\n",
            "4\n",
            "5\n",
            "6\n",
            "7\n",
            "8\n",
            "9\n",
            "10\n"
          ]
        }
      ]
    },
    {
      "cell_type": "code",
      "source": [
        "i=0\n",
        "even_sum=0\n",
        "odd_sum=0\n",
        "while(i<=10):\n",
        "\n",
        "    if(i%2==0):\n",
        "        even_sum=even_sum+i\n",
        "    else:\n",
        "        odd_sum=odd_sum+i\n",
        "  \n",
        "    \n",
        "    \n",
        "    i=i+1\n",
        "print(even_sum,odd_sum)"
      ],
      "metadata": {
        "colab": {
          "base_uri": "https://localhost:8080/"
        },
        "id": "8HNUBdWuTEK1",
        "outputId": "955fde7d-81e1-4611-c68b-3f2c15eea22a"
      },
      "execution_count": null,
      "outputs": [
        {
          "output_type": "stream",
          "name": "stdout",
          "text": [
            "30 25\n"
          ]
        }
      ]
    },
    {
      "cell_type": "code",
      "source": [
        "## continue\n",
        "x=0\n",
        "while x<7:\n",
        "    x=x+1\n",
        "    if x==4:\n",
        "        continue\n",
        "    print(x)"
      ],
      "metadata": {
        "colab": {
          "base_uri": "https://localhost:8080/"
        },
        "id": "b9-pdAImUw02",
        "outputId": "0ec2d020-9b7e-44bf-97c6-7f3bcb3ec222"
      },
      "execution_count": null,
      "outputs": [
        {
          "output_type": "stream",
          "name": "stdout",
          "text": [
            "1\n",
            "2\n",
            "3\n",
            "5\n",
            "6\n",
            "7\n"
          ]
        }
      ]
    },
    {
      "cell_type": "code",
      "source": [
        "##break\n",
        "x=1\n",
        "while(x<7):\n",
        "    \n",
        "    if x==4:\n",
        "        break\n",
        "    print(x)\n",
        "    x=x+1"
      ],
      "metadata": {
        "colab": {
          "base_uri": "https://localhost:8080/"
        },
        "id": "jdpKZrheVCH-",
        "outputId": "ddff0ec2-ccaf-4cd8-c179-fbdbd7cc14d7"
      },
      "execution_count": null,
      "outputs": [
        {
          "output_type": "stream",
          "name": "stdout",
          "text": [
            "1\n",
            "2\n",
            "3\n"
          ]
        }
      ]
    }
  ]
}